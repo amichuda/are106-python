{
 "cells": [
  {
   "cell_type": "markdown",
   "metadata": {},
   "source": [
    "# ARE 106 Summer Session II"
   ]
  },
  {
   "cell_type": "markdown",
   "metadata": {},
   "source": [
    "# Homework 5\n",
    "\n",
    "This homework will be due on **September 9nd, at 4:10pm**"
   ]
  },
  {
   "cell_type": "markdown",
   "metadata": {},
   "source": [
    "## Name: "
   ]
  },
  {
   "cell_type": "markdown",
   "metadata": {},
   "source": [
    "## SSID: "
   ]
  },
  {
   "cell_type": "markdown",
   "metadata": {},
   "source": [
    "Please put your name and SSID in the corresponding cells above.\n",
    "\n",
    "The homework is worth 13.5 points.\n",
    "\n",
    "For each of the following questions, show as much of your steps as you can (without going overboard). If you end up getting the wrong answer, but we spot where you made a mistake in the algebra, partial credit will be more readily given. If you only put the final answer, you will be marked either right or wrong.\n",
    "\n",
    "Answer questions in the correct cell. For problems where you have to input math, make sure that you know that it's a markdown cell (It won't have a `In: []` on the left) and make sure you run the cell by either pressing `Ctrl + Enter` or going to `Cell -> Run Cell`. Alternatively, write all your answers and then go to `Cell -> Run All Cells` after you're done. \n",
    "\n",
    "Please ignore cells that read `\\pagebreak`. These are so your document converts to PDF in a way that will make it possible to grade your homework. Ignore them and only write your answers where it is specified.\n",
    "\n",
    "**When you are finished export your homework to a PDF by going to `File -> Download as -> PDF`.**"
   ]
  },
  {
   "cell_type": "raw",
   "metadata": {},
   "source": [
    "\\pagebreak\n"
   ]
  },
  {
   "cell_type": "markdown",
   "metadata": {},
   "source": [
    "## Question 1: Probabilities with Normal Distributions\n",
    "\n",
    "Suppose we have a random variable $Y$, that follows a normal distribution with mean 0 and standard deviation 1.\n",
    "\n",
    "**Please consult the statistics review and the lecture notes for more information.**\n",
    "\n",
    "For each of the following questions, find their probabilities using the z-table from this link:\n",
    "\n",
    "http://www.z-table.com/uploads/2/1/7/9/21795380/8573955.png?759\n",
    "\n",
    "\n",
    "**Hint: Remember that the normal distribution is symmetric and adds up to 1**\n",
    "\n",
    "**Hint: Remember that the table below gives $Pr(Y \\leq z)$ where $z>0$, so you might have to do some work to get it into a state that you can use the table with.**\n",
    "\n",
    "\n",
    "a. $Pr(Y \\leq 1.96)$\n",
    "\n",
    "b. $Pr(Y > 1.96)$\n",
    "\n",
    "c. $Pr(Y > 0)$\n",
    "\n",
    "d. $Pr(-1.96 \\leq Y \\leq 1.96)$\n",
    "\n",
    "e. What is $1- Pr(-1.96 \\leq Y \\leq 1.96)$? In a hypothesis test, what kind of test (one-tailed, two-tailed) and $\\alpha$ level would this correspond to?\n",
    "\n",
    "\n",
    "\n"
   ]
  },
  {
   "cell_type": "raw",
   "metadata": {},
   "source": [
    "\\pagebreak\n"
   ]
  },
  {
   "cell_type": "markdown",
   "metadata": {},
   "source": [
    "**Please put your answers for Question 1 here.**\n",
    "\n",
    "- a. \n",
    "- b. \n",
    "- c. \n",
    "- d. \n",
    "- e. "
   ]
  },
  {
   "cell_type": "raw",
   "metadata": {},
   "source": [
    "\\pagebreak\n"
   ]
  },
  {
   "cell_type": "markdown",
   "metadata": {},
   "source": [
    "## Question 2: Doing Question 1 with Python\n",
    "\n",
    "For this question, we'll reuse Question 1 a-d, but we'll do it with Python. The way to do this is first to import the normal distribution from `scipy.stats` and use its CDF:\n",
    "\n",
    "```python\n",
    "\n",
    "from scipy.stats import norm\n",
    "\n",
    "```\n",
    "\n",
    "Then create an instance of a normal distribution with its mean and standard deviation:\n",
    "\n",
    "```python\n",
    "dist = norm(<mean here>, <standard deviation here>)\n",
    "```\n",
    "\n",
    "And now call its CDF, where it takes an argument $x$ and gives you $Pr(Y \\leq x)$:\n",
    "\n",
    "```python\n",
    "dist.cdf(x)\n",
    "```\n",
    "\n",
    "Now for Question 1 a-d, find the answers using Python.\n",
    "\n"
   ]
  },
  {
   "cell_type": "raw",
   "metadata": {},
   "source": [
    "\\pagebreak\n"
   ]
  },
  {
   "cell_type": "code",
   "execution_count": 1,
   "metadata": {
    "ExecuteTime": {
     "end_time": "2019-08-30T23:12:08.253051Z",
     "start_time": "2019-08-30T23:12:08.247053Z"
    }
   },
   "outputs": [],
   "source": [
    "## Put your answers for Question 2 here:\n"
   ]
  },
  {
   "cell_type": "raw",
   "metadata": {},
   "source": [
    "\\pagebreak\n"
   ]
  },
  {
   "cell_type": "markdown",
   "metadata": {},
   "source": [
    "## Question 3: Test Statistics\n",
    "\n",
    "For the following questions, first state whether the test needed is a Z-statistic or T-statistic and calculate the test statistic.\n",
    "\n",
    "\n",
    "**Note: Feel free to make a new cell to do some calculations with Python if need be.**\n",
    "\n",
    "\n",
    "- a. The grades on a statistics test at GW University are normally distributed with $\\mu=55$ and $\\sigma=12$.  George scored $G = 65$ on the exam. You want to test whether George's score is more than the mean.\n",
    "\n",
    "\n",
    "- b. The heights of the statisticians working on the Large Hadron Collider project seems to be normally distributed with $\\mu=68$ inches and $\\sigma=5$ inches. Dr. Numbercrackers’ height is $H = 61$ inches. You want to test is Dr. Numbercracker's height is different from the mean.\n",
    "\n",
    "\n",
    "- c. The Bureau on Economic Development conducted a survey of families residing in a small town of Gugelshnackel. 100 residents were surveyed and the survey revealed that $\\bar{X} = 45,000$ and $s = 10,538$. You need to test whether mean income is statistically different from a null hypothesis of 40,000.\n",
    "\n"
   ]
  },
  {
   "cell_type": "raw",
   "metadata": {},
   "source": [
    "\\pagebreak\n"
   ]
  },
  {
   "cell_type": "markdown",
   "metadata": {},
   "source": [
    "**Please put your answers for Question 3 here.**\n",
    "\n",
    "- a. \n",
    "- b. \n",
    "- c. \n"
   ]
  },
  {
   "cell_type": "raw",
   "metadata": {},
   "source": [
    "\\pagebreak\n"
   ]
  },
  {
   "cell_type": "markdown",
   "metadata": {},
   "source": [
    "## Question 4: Hypothesis Testing\n",
    "\n",
    "From your answers to Question 3, a given $\\alpha$ level and a particular kind of test, find the critical value and test whether your statistics are statistically significant or not. \n",
    "\n",
    "For this question you can use `norm.ppf` to find the critical value. Simply put in the area you want and it gives you the associated number:\n",
    "\n",
    "```python\n",
    "dist.ppf(0.95)\n",
    "```\n",
    "\n",
    "**Be sure to write down your null and alternative hypotheses.**\n",
    "\n",
    "You can choose to do this using the z-table above or with python.\n",
    "\n",
    "- a. Using your answer from Question 3 a., run a one tailed test with $\\alpha=0.05$\n",
    "- b. Using you answer from Question 3 b., run a two-tailed test with $\\alpha=0.05$.\n",
    "- c. Using you answer from QUestion 3 c., run a two-tailed test with $\\alpha=0.01$.\n",
    "- d. Calculate the p-value for your answer from Question 3 c.\n"
   ]
  },
  {
   "cell_type": "raw",
   "metadata": {},
   "source": [
    "\\pagebreak\n"
   ]
  },
  {
   "cell_type": "markdown",
   "metadata": {},
   "source": [
    "**Please put your answers for Question 4 here**\n",
    "\n",
    "- a. \n",
    "\n",
    "- b.\n",
    "\n",
    "\n",
    "\n",
    "- c.\n",
    "\n",
    "\n",
    "\n",
    "- d. "
   ]
  },
  {
   "cell_type": "code",
   "execution_count": 1,
   "metadata": {
    "ExecuteTime": {
     "end_time": "2019-09-03T07:51:42.098622Z",
     "start_time": "2019-09-03T07:51:42.090555Z"
    }
   },
   "outputs": [],
   "source": [
    "## If you need to do calculations in Python, put them here.\n",
    "\n",
    "## a.\n",
    "\n",
    "\n",
    "## b. \n",
    "\n",
    "## c. \n",
    "\n",
    "## d. \n"
   ]
  },
  {
   "cell_type": "raw",
   "metadata": {},
   "source": [
    "\\pagebreak\n"
   ]
  },
  {
   "cell_type": "markdown",
   "metadata": {},
   "source": [
    "## Question 5: Nonlinearity\n",
    "\n",
    "For the given situation, write what you think the best nonlinear transformation to the variables would be to investigate this change. Write your answer in the form of a regression model.\n",
    "\n",
    "- a. In investigating the effect of IQ on salary, we'd like to see the effect in terms of an elasticity.\n",
    "- b. We'd like to see how age affects salary. We'd like to investigate whether there is some peak effect of age on salary. \n",
    "- c. We'd like to investigate whether there is a differential/heterogeneous effect on age across genders."
   ]
  },
  {
   "cell_type": "raw",
   "metadata": {},
   "source": [
    "\\pagebreak\n"
   ]
  },
  {
   "cell_type": "markdown",
   "metadata": {},
   "source": [
    "**Write your answer to question 5 here.**\n",
    "\n",
    "- a. \n",
    "\n",
    "\n",
    "- b.\n",
    "\n",
    "\n",
    "- c. \n"
   ]
  },
  {
   "cell_type": "raw",
   "metadata": {},
   "source": [
    "\\pagebreak\n"
   ]
  },
  {
   "cell_type": "markdown",
   "metadata": {},
   "source": [
    "## Question 6: Testing Significance of our Model\n",
    "\n",
    "Suppose we run two regressions:\n",
    "\n",
    "$$\n",
    "(1): Y_i = b_0 + b_1 X_i + e_i \n",
    "$$\n",
    "\n",
    "$$\n",
    "(2): Y_i = b_0 + b_1 X_i + b_2 X_i^2 + e_i \n",
    "$$\n",
    "\n",
    "The data can be found at:\n",
    "\n",
    "https://raw.githubusercontent.com/lordflaron/ARE106data/master/HW5.csv\n",
    "\n",
    "a. Import `pandas` and `statsmodels.formula.api` and load in the data"
   ]
  },
  {
   "cell_type": "raw",
   "metadata": {},
   "source": [
    "\\pagebreak\n"
   ]
  },
  {
   "cell_type": "code",
   "execution_count": 2,
   "metadata": {
    "ExecuteTime": {
     "end_time": "2019-08-30T23:13:27.568900Z",
     "start_time": "2019-08-30T23:13:27.563049Z"
    }
   },
   "outputs": [],
   "source": [
    "## Put your answer for a. here\n",
    "\n"
   ]
  },
  {
   "cell_type": "raw",
   "metadata": {},
   "source": [
    "\\pagebreak\n"
   ]
  },
  {
   "cell_type": "markdown",
   "metadata": {},
   "source": [
    "b. Now run the first regression. "
   ]
  },
  {
   "cell_type": "raw",
   "metadata": {},
   "source": [
    "\\pagebreak\n"
   ]
  },
  {
   "cell_type": "code",
   "execution_count": 3,
   "metadata": {
    "ExecuteTime": {
     "end_time": "2019-08-30T23:13:32.806396Z",
     "start_time": "2019-08-30T23:13:32.800877Z"
    }
   },
   "outputs": [],
   "source": [
    "## Put your answer for b. here\n"
   ]
  },
  {
   "cell_type": "raw",
   "metadata": {},
   "source": [
    "\\pagebreak\n"
   ]
  },
  {
   "cell_type": "markdown",
   "metadata": {},
   "source": [
    "c. What is the $R^2$?"
   ]
  },
  {
   "cell_type": "markdown",
   "metadata": {},
   "source": [
    "**Put your answer here.**\n",
    "\n"
   ]
  },
  {
   "cell_type": "raw",
   "metadata": {},
   "source": [
    "\\pagebreak\n"
   ]
  },
  {
   "cell_type": "markdown",
   "metadata": {},
   "source": [
    "d. Now run the second regression.  You can either create the $X_i^2$ with an assign call or use `np.power(X,2)` in your patsy formula."
   ]
  },
  {
   "cell_type": "code",
   "execution_count": 4,
   "metadata": {
    "ExecuteTime": {
     "end_time": "2019-08-30T23:13:46.548374Z",
     "start_time": "2019-08-30T23:13:46.541608Z"
    }
   },
   "outputs": [],
   "source": [
    "## Put your answer for c. here\n"
   ]
  },
  {
   "cell_type": "raw",
   "metadata": {},
   "source": [
    "\\pagebreak\n"
   ]
  },
  {
   "cell_type": "markdown",
   "metadata": {},
   "source": [
    "e. What is the $R^2$?"
   ]
  },
  {
   "cell_type": "markdown",
   "metadata": {},
   "source": [
    "**Put your answer here.**\n",
    "\n"
   ]
  },
  {
   "cell_type": "markdown",
   "metadata": {},
   "source": [
    "f. For the second model you estimated in c., what is the t-statsitic for X? Is it statistically significant at the 0.05 level?"
   ]
  },
  {
   "cell_type": "markdown",
   "metadata": {},
   "source": [
    "**Put your answer here.**\n",
    "\n"
   ]
  },
  {
   "cell_type": "markdown",
   "metadata": {},
   "source": [
    "g. Do the hypothesis test for the coefficient for X being 0 using the coefficient and standard error from the table. What do you find? Is it similar to the answer in f?"
   ]
  },
  {
   "cell_type": "markdown",
   "metadata": {},
   "source": [
    "**Put your answer here.**\n",
    "\n"
   ]
  },
  {
   "cell_type": "raw",
   "metadata": {},
   "source": [
    "\\pagebreak\n"
   ]
  },
  {
   "cell_type": "markdown",
   "metadata": {},
   "source": [
    "h. Using the $R^2$ from the second regression you ran, calculate the test statistic for whether Model 2 explains more than Model 1. You can find the correct statistic from the lecture notes. Use the $R^2_{alt}$ as Model 2's $R^2$ and $R^{null}$ is Model 1's $R^2$. \n",
    "\n",
    "**Note: $K_{alt}$ is the number of *added* regressors from Model 1 to Model 2. Keep that in mind.**\n",
    "\n",
    "Compare this test statistic against the Chi-squared critical value of a one-tailed test at $\\alpha=0.05$  of 3.841. Is it statistically more informative (i.e. does it reject)?"
   ]
  },
  {
   "cell_type": "markdown",
   "metadata": {},
   "source": [
    "**Put your answer here.**\n",
    "\n"
   ]
  },
  {
   "cell_type": "raw",
   "metadata": {},
   "source": [
    "\\pagebreak\n"
   ]
  },
  {
   "cell_type": "code",
   "execution_count": 5,
   "metadata": {
    "ExecuteTime": {
     "end_time": "2019-08-30T23:14:32.116371Z",
     "start_time": "2019-08-30T23:14:32.110022Z"
    },
    "scrolled": true
   },
   "outputs": [],
   "source": [
    "## You can use this cell for calculations if you like."
   ]
  }
 ],
 "metadata": {
  "hide_input": false,
  "kernelspec": {
   "display_name": "Python 3",
   "language": "python",
   "name": "python3"
  },
  "language_info": {
   "codemirror_mode": {
    "name": "ipython",
    "version": 3
   },
   "file_extension": ".py",
   "mimetype": "text/x-python",
   "name": "python",
   "nbconvert_exporter": "python",
   "pygments_lexer": "ipython3",
   "version": "3.7.4"
  },
  "latex_envs": {
   "LaTeX_envs_menu_present": true,
   "autoclose": false,
   "autocomplete": true,
   "bibliofile": "biblio.bib",
   "cite_by": "apalike",
   "current_citInitial": 1,
   "eqLabelWithNumbers": true,
   "eqNumInitial": 1,
   "hotkeys": {
    "equation": "Ctrl-E",
    "itemize": "Ctrl-I"
   },
   "labels_anchors": false,
   "latex_user_defs": false,
   "report_style_numbering": false,
   "user_envs_cfg": false
  },
  "nbTranslate": {
   "displayLangs": [
    "*"
   ],
   "hotkey": "alt-t",
   "langInMainMenu": true,
   "sourceLang": "en",
   "targetLang": "fr",
   "useGoogleTranslate": true
  },
  "varInspector": {
   "cols": {
    "lenName": 16,
    "lenType": 16,
    "lenVar": 40
   },
   "kernels_config": {
    "python": {
     "delete_cmd_postfix": "",
     "delete_cmd_prefix": "del ",
     "library": "var_list.py",
     "varRefreshCmd": "print(var_dic_list())"
    },
    "r": {
     "delete_cmd_postfix": ") ",
     "delete_cmd_prefix": "rm(",
     "library": "var_list.r",
     "varRefreshCmd": "cat(var_dic_list()) "
    }
   },
   "types_to_exclude": [
    "module",
    "function",
    "builtin_function_or_method",
    "instance",
    "_Feature"
   ],
   "window_display": false
  }
 },
 "nbformat": 4,
 "nbformat_minor": 2
}
