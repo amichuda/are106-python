{
 "cells": [
  {
   "cell_type": "markdown",
   "metadata": {},
   "source": [
    "# Homework #2"
   ]
  },
  {
   "cell_type": "markdown",
   "metadata": {},
   "source": [
    "# ARE 106 Summer Session II"
   ]
  },
  {
   "cell_type": "markdown",
   "metadata": {},
   "source": [
    "## Name: "
   ]
  },
  {
   "cell_type": "markdown",
   "metadata": {},
   "source": [
    "## SSID: "
   ]
  },
  {
   "cell_type": "markdown",
   "metadata": {},
   "source": [
    "Please put your name and SSID in the corresponding cells above.\n",
    "\n",
    "The homework is worth 13.5 points.\n",
    "\n",
    "For each of the following questions, show as much of your steps as you can (without going overboard). If you end up getting the wrong answer, but we spot where you made a mistake in the algebra, partial credit will be more readily given. If you only put the final answer, you will be marked either right or wrong.\n",
    "\n",
    "Answer questions in the correct cell. For problems where you have to input math, make sure that you know that it's a markdown cell (It won't have a `In: []` on the left) and make sure you run the cell by either pressing `Ctrl + Enter` or going to `Cell -> Run Cell`. Alternatively, write all your answers and then go to `Cell -> Run All Cells` after you're done. \n",
    "\n",
    "Please ignore cells that read `\\pagebreak`. These are so your document converts to PDF in a way that will make it possible to grade your homework. Ignore them and only write your answers where it is specified.\n",
    "\n",
    "**When you are finished export your homework to a PDF by going to `File -> Download as -> PDF`.**"
   ]
  },
  {
   "cell_type": "raw",
   "metadata": {},
   "source": [
    "\\pagebreak\n"
   ]
  },
  {
   "cell_type": "markdown",
   "metadata": {},
   "source": [
    "### Exercise 1: Statistics Review\n",
    "\n",
    "For the following problems, write down the answer in the markdown cell below the question. If you have trouble writing math, either double-click on the markdown cell to see how it was written or consult [this cheatsheet](https://math.meta.stackexchange.com/questions/5020/mathjax-basic-tutorial-and-quick-reference\n",
    "):\n",
    "\n",
    "\n",
    "Assume that there are two random variables $X$ and $Y$ with expected values $\\mu_x$ and $\\mu_y$, and variances $\\sigma_x$ and $\\sigma_y$. Let the covariance between $X$ and $Y$ be: $\\sigma_{xy}$. Note that the covariance between these two variables need not be 0 (i.e. they aren't necessarily independent).\n",
    "\n",
    "Any others ($a,b,c$ etc...) can be considered non-random parameters.\n",
    "\n",
    "For each of the following problems, rewrite the expressions in terms of $\\mu_x,\\mu_y,\\sigma_x,\\sigma_y$ and $\\sigma_{x,y}$ when possible. If not possible, write what you think the answer is and explain why.\n",
    " "
   ]
  },
  {
   "cell_type": "markdown",
   "metadata": {},
   "source": [
    "- i. $E(aX + bY)$\n",
    "- ii. $Var(bY + c)$\n",
    "- iii. $Cov(aX + b, c^{2}Y+d)$\n",
    "- iv. $E(b)$, remember $b$ is non-random\n",
    "- v. $Var(a)$, remember $a$ is non-random"
   ]
  },
  {
   "cell_type": "raw",
   "metadata": {},
   "source": [
    "\\pagebreak\n"
   ]
  },
  {
   "cell_type": "markdown",
   "metadata": {},
   "source": [
    "**Please write your answers here. If you need to use more than one line, you may do so.**\n",
    "\n",
    "- i.\n",
    "- ii.\n",
    "- iii. \n",
    "- iv.\n",
    "- v."
   ]
  },
  {
   "cell_type": "raw",
   "metadata": {},
   "source": [
    "\\pagebreak\n"
   ]
  },
  {
   "cell_type": "markdown",
   "metadata": {},
   "source": [
    "### Exercise 2: Statistics Review Continued\n",
    "\n",
    "This exercise uses the same instructions as question 1. "
   ]
  },
  {
   "cell_type": "markdown",
   "metadata": {},
   "source": [
    "- i. What is the definition of $Cov(X,Y)$ in terms of expectations? **Hint: check the statistics review slides from the first class**. \n",
    "- ii. Rewrite this expression so that it has $E(XY)$ on one side. Does $E(XY) = \\mu_x \\mu_y$? Why or why not?"
   ]
  },
  {
   "cell_type": "raw",
   "metadata": {},
   "source": [
    "\\pagebreak\n"
   ]
  },
  {
   "cell_type": "markdown",
   "metadata": {},
   "source": [
    "**Please write your answers here. If you need to use more than one line, you may do so.**\n",
    "\n",
    "- i.   \n",
    "  \n",
    "  \n",
    "- ii.\n",
    "  "
   ]
  },
  {
   "cell_type": "raw",
   "metadata": {},
   "source": [
    "\\pagebreak\n"
   ]
  },
  {
   "cell_type": "markdown",
   "metadata": {},
   "source": [
    "### Exercise 3: Deriving the $R^2$.\n",
    "\n",
    "Suppose that we have an estimated regression model $y_i = \\hat{b}_0 + \\hat{b}_1 x_i +e_i$, where $\\hat{b}_0,\\hat{b}_1$ are estimated OLS coefficients. Let $\\hat{y}_i = \\hat{b}_0 + \\hat{b}_1 x_i$, so that:\n",
    "\n",
    "$$\n",
    "y_i = \\hat{y}_i + e_i\n",
    "$$\n",
    "\n",
    "Use the definition for $Var(y_i)$ to derive the expression for the $R^2$. What expression has to be equal to 0 in order for this to be true? "
   ]
  },
  {
   "cell_type": "raw",
   "metadata": {},
   "source": [
    "\\pagebreak\n"
   ]
  },
  {
   "cell_type": "markdown",
   "metadata": {},
   "source": [
    "**Please write your answer here. If you need to use more than one line, you may do so.**\n",
    "\n",
    "Answer:"
   ]
  },
  {
   "cell_type": "raw",
   "metadata": {},
   "source": [
    "\\pagebreak\n"
   ]
  },
  {
   "cell_type": "markdown",
   "metadata": {},
   "source": [
    "### Exercise 4: Ordinary Least Squares\n",
    "\n",
    "Suppose you have some data $x_i$ and you would like to see how it affects $y_i$, your dependent variable. You think that this relationship can be estimated linearly, so the model you write down is:\n",
    "\n",
    "$$\n",
    "y_i = b_0 + b_1 x_i + e_i\n",
    "$$\n",
    "\n",
    "- i. If you wanted to estimate this relationship using OLS, what would be the expressions for $\\hat{b}_0$ and $\\hat{b}_1$? *You do not need to show your work for this question, you can just write it.*\n",
    "- ii. Now suppose that the independent variable, $x_i$, is made up of really small number (ex. many of the observations are .000001). You decide to multiply this variable by $1,000$ so that the variable doesn't have quite so many 0's after the decimal point (making it easier to understand). Let's see how that would change the OLS coefficients.\n",
    "    - a. What would your estimating equation look like now? (Hint:It will be similar to equation (1), but with one change)\n",
    "    - b. Write the minimization problem that you need to solve.\n",
    "    - c. Solve the minimization problem and give the answers for the expressions for the resulting, new OLS coefficients. \n",
    "    - d. Which coefficient is bigger or smaller? "
   ]
  },
  {
   "cell_type": "raw",
   "metadata": {},
   "source": [
    "\\pagebreak\n"
   ]
  },
  {
   "cell_type": "markdown",
   "metadata": {},
   "source": [
    "**Please write your answer here. If you need to use more than one line, you may do so.**\n",
    "\n",
    "- i. \n",
    "- ii.\n",
    "    - a.\n",
    "    - b.\n",
    "    - c.\n",
    "    - d. \n",
    "    - e. "
   ]
  },
  {
   "cell_type": "raw",
   "metadata": {},
   "source": [
    "\\pagebreak\n"
   ]
  },
  {
   "cell_type": "markdown",
   "metadata": {},
   "source": [
    "### Exercise 5: Python Coding\n",
    "\n",
    "Suppose we have a list of numbers `my_list  = [1,3,5,6,7]`. Write a program that takes this list, and multiplies it by 2, but if the number is 3, print out, \"this is the number 3.\"\n",
    "\n",
    "So what we're looking for, is a function that takes in a list and outputs a list.\n",
    "\n",
    "Input: `[1,3,5,6,7]`\n",
    "\n",
    "Output: \n",
    "\n",
    "```\n",
    "[2,6,10,12,14]\n",
    "\"this is the number 3\"\n",
    "```\n",
    "\n",
    "**Remember to comment your code and to initialize your lists first (you might need to initialize an empty list first). A comment can be made by using the `#` symbol. Also remember that to tell the function what you want to output, you need to include a `return` statement in the function.**"
   ]
  },
  {
   "cell_type": "code",
   "execution_count": 1,
   "metadata": {
    "ExecuteTime": {
     "end_time": "2019-08-12T07:38:37.610944Z",
     "start_time": "2019-08-12T07:38:37.608283Z"
    }
   },
   "outputs": [],
   "source": [
    "### Please put your answer here:"
   ]
  }
 ],
 "metadata": {
  "hide_input": false,
  "kernelspec": {
   "display_name": "Python 3",
   "language": "python",
   "name": "python3"
  },
  "language_info": {
   "codemirror_mode": {
    "name": "ipython",
    "version": 3
   },
   "file_extension": ".py",
   "mimetype": "text/x-python",
   "name": "python",
   "nbconvert_exporter": "python",
   "pygments_lexer": "ipython3",
   "version": "3.7.3"
  },
  "latex_envs": {
   "LaTeX_envs_menu_present": true,
   "autoclose": false,
   "autocomplete": true,
   "bibliofile": "biblio.bib",
   "cite_by": "apalike",
   "current_citInitial": 1,
   "eqLabelWithNumbers": true,
   "eqNumInitial": 1,
   "hotkeys": {
    "equation": "Ctrl-E",
    "itemize": "Ctrl-I"
   },
   "labels_anchors": false,
   "latex_user_defs": false,
   "report_style_numbering": false,
   "user_envs_cfg": false
  },
  "nbTranslate": {
   "displayLangs": [
    "*"
   ],
   "hotkey": "alt-t",
   "langInMainMenu": true,
   "sourceLang": "en",
   "targetLang": "fr",
   "useGoogleTranslate": true
  },
  "varInspector": {
   "cols": {
    "lenName": 16,
    "lenType": 16,
    "lenVar": 40
   },
   "kernels_config": {
    "python": {
     "delete_cmd_postfix": "",
     "delete_cmd_prefix": "del ",
     "library": "var_list.py",
     "varRefreshCmd": "print(var_dic_list())"
    },
    "r": {
     "delete_cmd_postfix": ") ",
     "delete_cmd_prefix": "rm(",
     "library": "var_list.r",
     "varRefreshCmd": "cat(var_dic_list()) "
    }
   },
   "types_to_exclude": [
    "module",
    "function",
    "builtin_function_or_method",
    "instance",
    "_Feature"
   ],
   "window_display": false
  }
 },
 "nbformat": 4,
 "nbformat_minor": 2
}
