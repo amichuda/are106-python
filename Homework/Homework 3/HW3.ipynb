{
 "cells": [
  {
   "cell_type": "markdown",
   "metadata": {},
   "source": [
    "# ARE 106 Summer Session II"
   ]
  },
  {
   "cell_type": "markdown",
   "metadata": {},
   "source": [
    "# Homework 3\n",
    "\n",
    "This homework will be due on **August 29th at 2pm**"
   ]
  },
  {
   "cell_type": "markdown",
   "metadata": {},
   "source": [
    "## Name: "
   ]
  },
  {
   "cell_type": "markdown",
   "metadata": {},
   "source": [
    "## SSID: "
   ]
  },
  {
   "cell_type": "markdown",
   "metadata": {},
   "source": [
    "Please put your name and SSID in the corresponding cells above.\n",
    "\n",
    "The homework is worth 13.5 points.\n",
    "\n",
    "For each of the following questions, show as much of your steps as you can (without going overboard). If you end up getting the wrong answer, but we spot where you made a mistake in the algebra, partial credit will be more readily given. If you only put the final answer, you will be marked either right or wrong.\n",
    "\n",
    "Answer questions in the correct cell. For problems where you have to input math, make sure that you know that it's a markdown cell (It won't have a `In: []` on the left) and make sure you run the cell by either pressing `Ctrl + Enter` or going to `Cell -> Run Cell`. Alternatively, write all your answers and then go to `Cell -> Run All Cells` after you're done. \n",
    "\n",
    "Please ignore cells that read `\\pagebreak`. These are so your document converts to PDF in a way that will make it possible to grade your homework. Ignore them and only write your answers where it is specified.\n",
    "\n",
    "**When you are finished export your homework to a PDF by going to `File -> Download as -> PDF`.**"
   ]
  },
  {
   "cell_type": "raw",
   "metadata": {},
   "source": [
    "\\pagebreak\n"
   ]
  },
  {
   "cell_type": "markdown",
   "metadata": {},
   "source": [
    "## Exercise 1: Single Regression"
   ]
  },
  {
   "cell_type": "markdown",
   "metadata": {},
   "source": [
    "**Please don't forget to comment your code. Failure to do so will result in a loss of points.**\n",
    "\n",
    "Also remember that all code that is required here (unless otherwise stated) can be found in the lecture Jupyter Notebooks or the coding notebooks from class."
   ]
  },
  {
   "cell_type": "markdown",
   "metadata": {},
   "source": [
    "Here are three models for the median starting salary of law school graduates in 1985.\n",
    "\n",
    "\n",
    "\\begin{gather}\n",
    "log(salary_i) = b_0 + b_1 LSAT_i + e_i \\\\\n",
    "log(salary_i) = b_0 + b_1 LSAT_i + b_2 GPA_i + e_i \\\\\n",
    "log(salary_i) = b_0 + b_1 LSAT_i + b_2 GPA_i + b_3 log(cost_i) + b_4 rank_i + e_i\n",
    "\\end{gather}\n",
    "    \n",
    "\t \n",
    "Each observation $i$ represents a school.\n",
    "\n",
    "The variables in the dataset are:\n",
    "\n"
   ]
  },
  {
   "cell_type": "markdown",
   "metadata": {},
   "source": [
    "|   | Variable           |   Description |\n",
    "|---------|---------------|---------------|\n",
    "|  1.     | rank               |law school ranking    |                        \n",
    "|  2.     | salary             |median starting salary|\n",
    "|  3.     | cost               |law school cost|\n",
    "|  4.     | LSAT               |median LSAT score|\n",
    "|  5.     | GPA                |median college GPA|\n",
    "|  6.     | libvol             |no. volumes in lib., 1000s|\n",
    "|  7.     | faculty            |no. of faculty|\n",
    "|  8.     | age                |age of law sch., years|\n",
    "|  9.     | clsize             |size of entering class|\n",
    "| 10.     | north              |=1 if law sch in north|\n",
    "| 11.     | south              |=1 if law sch in south|\n",
    "| 12.     | east               |=1 if law sch in east|\n",
    "| 13.     | west               |=1 if law sch in west|\n",
    "| 14.     | studfac            |student-faculty ratio|\n",
    "| 15.     | top10              |=1 if ranked in top 10|\n",
    "| 16.     | r11_25             |=1 if ranked 11-25|\n",
    "| 17.     | r26_40             |=1 if ranked 26-40|\n",
    "| 18.     | r41_60             |=1 if ranked 41-60|"
   ]
  },
  {
   "cell_type": "raw",
   "metadata": {},
   "source": [
    "\\pagebreak\n"
   ]
  },
  {
   "cell_type": "markdown",
   "metadata": {},
   "source": [
    "a. In the code cell below, write the appropriate imports you will need for this question (we will need `pandas`, `numpy` and `statsmodels.formula.api`). You can do an abbreviated import if you wish (but the standard for `pandas` is `pd`, `statsmodels.formula.api` is `smf`, and `numpy` is `np`). Afterwards, load in the data from here:\n",
    "\n",
    "https://raw.githubusercontent.com/lordflaron/ARE106data/master/lawsch85.csv\n",
    "\n",
    "This can be done using the `read_csv()` function. Name this dataset `raw_df`. After loading in the data, show the first *10* observations in the output. "
   ]
  },
  {
   "cell_type": "code",
   "execution_count": 1,
   "metadata": {
    "ExecuteTime": {
     "end_time": "2019-08-19T08:19:38.239149Z",
     "start_time": "2019-08-19T08:19:38.236733Z"
    }
   },
   "outputs": [],
   "source": [
    "## a. Put your answer in this cell."
   ]
  },
  {
   "cell_type": "raw",
   "metadata": {},
   "source": [
    "\\pagebreak\n"
   ]
  },
  {
   "cell_type": "markdown",
   "metadata": {},
   "source": [
    "b. Use the `describe()` method on `raw_df` to show a table of summary statistics for each variable in the dataset. How many observations does $salary_i$ have? Write this in a print statement. (Hint: This is in the \"count\" row the summary table)."
   ]
  },
  {
   "cell_type": "code",
   "execution_count": 2,
   "metadata": {
    "ExecuteTime": {
     "end_time": "2019-08-19T08:19:44.858090Z",
     "start_time": "2019-08-19T08:19:44.855738Z"
    }
   },
   "outputs": [],
   "source": [
    "## b. Put your answer in this cell."
   ]
  },
  {
   "cell_type": "raw",
   "metadata": {},
   "source": [
    "\\pagebreak\n"
   ]
  },
  {
   "cell_type": "markdown",
   "metadata": {},
   "source": [
    "c. Since we'll need a log-transformed version of $salary_i$ for all our models, use `assign()` to create a new variable which is the log of $salary_i$. Name this new variable `log_salary`.\n",
    "\n",
    "Hints:\n",
    "\n",
    "Remember that assign is not an *inplace* operation!\n",
    "\n",
    "Remember to use a lambda function in this case. To log a variable, you can use `np.log()`\n",
    "\n",
    "Remember the syntax for `assign()`:\n",
    "\n",
    "```\n",
    "my_df.assign(new_variable = expression)\n",
    "```\n",
    "\n",
    "After this we now need to also drop any observations that are missing. This isn't actually how econometricians deal with missing data, but this is good enough for us for now.\n",
    "\n",
    "You can do this by chaining the `dropna()` method after the `assign()` method.\n",
    "\n",
    "**Warning: Do not do `dropna` BEFORE `assign`**\n",
    "\n",
    "The end result should look something like this:\n",
    "\n",
    "```\n",
    "df = raw_df.assign(log_salary= expression).dropna()\n",
    "```"
   ]
  },
  {
   "cell_type": "raw",
   "metadata": {},
   "source": [
    "\\pagebreak\n"
   ]
  },
  {
   "cell_type": "code",
   "execution_count": 3,
   "metadata": {
    "ExecuteTime": {
     "end_time": "2019-08-19T08:19:53.745765Z",
     "start_time": "2019-08-19T08:19:53.741568Z"
    }
   },
   "outputs": [],
   "source": [
    "## c. Put your answer in this cell."
   ]
  },
  {
   "cell_type": "raw",
   "metadata": {},
   "source": [
    "\\pagebreak\n"
   ]
  },
  {
   "cell_type": "markdown",
   "metadata": {},
   "source": [
    "d. Before estimating the model, explain how to interpret $b_1$ in Model 1."
   ]
  },
  {
   "cell_type": "markdown",
   "metadata": {},
   "source": [
    "**Please write your answer for d here. If you need to use more than one line, you may do so.**\n",
    "\n"
   ]
  },
  {
   "cell_type": "markdown",
   "metadata": {},
   "source": [
    "e. Before estimating the model, explain how to interpret $b_1$ in Model 2."
   ]
  },
  {
   "cell_type": "markdown",
   "metadata": {},
   "source": [
    "**Please write your answer for e here. If you need to use more than one line, you may do so.**\n",
    "\n"
   ]
  },
  {
   "cell_type": "markdown",
   "metadata": {},
   "source": [
    "f. Before estimating the model, do you expect $b_1$ and $b_2$ to be positive or negative in Model 2?  Explain.\n",
    "(Hint: I'm not asking for any rigorous mathematical way to answer this question. Just use your economic intuition and reasoning skills to write an argument)."
   ]
  },
  {
   "cell_type": "markdown",
   "metadata": {},
   "source": [
    "**Please write your answer for f here. If you need to use more than one line, you may do so.**\n"
   ]
  },
  {
   "cell_type": "raw",
   "metadata": {},
   "source": [
    "\\pagebreak\n"
   ]
  },
  {
   "cell_type": "markdown",
   "metadata": {},
   "source": [
    "g. Estimate Model 1. Show the regression output."
   ]
  },
  {
   "cell_type": "code",
   "execution_count": 4,
   "metadata": {
    "ExecuteTime": {
     "end_time": "2019-08-19T08:20:16.197959Z",
     "start_time": "2019-08-19T08:20:16.195484Z"
    }
   },
   "outputs": [],
   "source": [
    "## g. Put your answer in this cell."
   ]
  },
  {
   "cell_type": "raw",
   "metadata": {},
   "source": [
    "\\pagebreak\n"
   ]
  },
  {
   "cell_type": "markdown",
   "metadata": {},
   "source": [
    "h. What is the effect of a one unit increase in LSAT score on the log of median salary?"
   ]
  },
  {
   "cell_type": "markdown",
   "metadata": {},
   "source": [
    "**Please write your answer for h here. If you need to use more than one line, you may do so.**\n"
   ]
  },
  {
   "cell_type": "markdown",
   "metadata": {},
   "source": [
    "i. What does the $R^2$ measure in the regression? What is the $R^2$ in this case? (Not the adjusted $R^2$)."
   ]
  },
  {
   "cell_type": "markdown",
   "metadata": {},
   "source": [
    "**Please write your answer for i here. If you need to use more than one line, you may do so.**\n",
    "\n"
   ]
  },
  {
   "cell_type": "raw",
   "metadata": {},
   "source": [
    "\\pagebreak\n"
   ]
  },
  {
   "cell_type": "markdown",
   "metadata": {},
   "source": [
    "## Exercise 2: Multiple Regression\n",
    "\n",
    "This is a continuation of what we were doing in Exercise 1.\n",
    "\n",
    "For this exercise, observe the expression for $b_1$ when there are two regressors in the equation:\n",
    "\n",
    "$$\n",
    "\\hat{b_1} = \\frac{\\sum_i^N x_{1i} y_i \\sum_i^N x_{2i}^2 - \\sum_i^N x_{1i} x_{2i} \\sum_i^N x_{2i} y_i}{\\sum_i^N x_{1i}^2 \\sum_i^N x_{2i}^2 - \\left(\\sum_i^N x_{1i} x_{2i} \\right)^2}\n",
    "$$\n",
    "\n",
    "Hint: Notice that each of these terms in the equation look similar to either covariances or variances (in fact if you multiply the denominator and numerator by $\\frac{1}{N^2}$ then they are in fact variances and covariances without changing the value of the coefficient (since $\\frac{\\frac{1}{N^2}}{\\frac{1}{N^2}}$ is 1).\n",
    "\n",
    "Also notice that the covariance is like an **un-normalized correlation coefficient**. So if you calculate the correlation between two variables, you won't know the covariance between the two, but you'll know the direction and strength of their relationship."
   ]
  },
  {
   "cell_type": "raw",
   "metadata": {},
   "source": [
    "\\pagebreak\n"
   ]
  },
  {
   "cell_type": "markdown",
   "metadata": {},
   "source": [
    "a. Estimate Model 2. Show the regression output."
   ]
  },
  {
   "cell_type": "code",
   "execution_count": 5,
   "metadata": {
    "ExecuteTime": {
     "end_time": "2019-08-19T08:20:36.922372Z",
     "start_time": "2019-08-19T08:20:36.916237Z"
    }
   },
   "outputs": [],
   "source": [
    "## a. Put your answer in this cell."
   ]
  },
  {
   "cell_type": "raw",
   "metadata": {},
   "source": [
    "\\pagebreak\n"
   ]
  },
  {
   "cell_type": "markdown",
   "metadata": {},
   "source": [
    "b. Calculate the correlations between $log(salary)_i$, $LSAT_i$ and $GPA_i$.\n",
    "\n",
    "Use the slicing notation to first make a subset of the data with only log_salary, LSAT and GPA.\n",
    "\n",
    "Then use the `corr()` method to get the correlation for those variables, i.e. it will look something like this:\n",
    "\n",
    "`df[['log_salary', 'GPA', 'LSAT']].corr()`\n",
    "\n",
    "This will give a matrix where you can see correlation between variables. (Note: correlation of a variable with itself is always 1)."
   ]
  },
  {
   "cell_type": "code",
   "execution_count": 7,
   "metadata": {
    "ExecuteTime": {
     "end_time": "2019-08-19T08:20:47.175098Z",
     "start_time": "2019-08-19T08:20:47.169496Z"
    }
   },
   "outputs": [],
   "source": [
    "## b. Put your answer in this cell."
   ]
  },
  {
   "cell_type": "raw",
   "metadata": {},
   "source": [
    "\\pagebreak\n"
   ]
  },
  {
   "cell_type": "markdown",
   "metadata": {},
   "source": [
    "c. Using you answer from (b) and the expression for $\\hat{b_1}$ above, answer this question:\n",
    "\n",
    "Why is $b_1$ in Model 2 different from $b_1$ in Model 1?"
   ]
  },
  {
   "cell_type": "markdown",
   "metadata": {},
   "source": [
    "**Please write your answer for c here. If you need to use more than one line, you may do so.**"
   ]
  },
  {
   "cell_type": "markdown",
   "metadata": {},
   "source": [
    "d. Why is the $R^2$ in Model 2 higher than Model 1? (Not the adjusted $R^2$)."
   ]
  },
  {
   "cell_type": "markdown",
   "metadata": {},
   "source": [
    "**Please write your answer for d here. If you need to use more than one line, you may do so.**\n"
   ]
  },
  {
   "cell_type": "raw",
   "metadata": {},
   "source": [
    "\\pagebreak\n"
   ]
  },
  {
   "cell_type": "markdown",
   "metadata": {},
   "source": [
    "e. Estimate Model 3. Show the regression output.\n",
    "\n",
    "Hint: One of the extra regressors in Model 3 is log-transformed. Instead of doing another `assign()` call, run this regression by explicitly logging the variable in the `patsy` formula. Use `np.log()` to do this."
   ]
  },
  {
   "cell_type": "code",
   "execution_count": 8,
   "metadata": {
    "ExecuteTime": {
     "end_time": "2019-08-19T08:21:07.334875Z",
     "start_time": "2019-08-19T08:21:07.328398Z"
    }
   },
   "outputs": [],
   "source": [
    "## e. Put your answer in this cell."
   ]
  },
  {
   "cell_type": "raw",
   "metadata": {},
   "source": [
    "\\pagebreak\n"
   ]
  },
  {
   "cell_type": "markdown",
   "metadata": {},
   "source": [
    "f. Suppose School A and School B have the same values for all the variables on the right hand side in Model 3, except School A is ranked 10 places higher than School B. What is the predicted difference in log median salary between the two schools?\n",
    "\n",
    "This question can be answered by simply printing out the math you did in a print statement using an `f-string`."
   ]
  },
  {
   "cell_type": "code",
   "execution_count": 9,
   "metadata": {
    "ExecuteTime": {
     "end_time": "2019-08-19T08:21:14.722709Z",
     "start_time": "2019-08-19T08:21:14.718669Z"
    }
   },
   "outputs": [],
   "source": [
    "## f. Put your answer in this cell."
   ]
  },
  {
   "cell_type": "raw",
   "metadata": {},
   "source": [
    "\\pagebreak\n"
   ]
  },
  {
   "cell_type": "markdown",
   "metadata": {},
   "source": [
    "## Exercise 3: Multicollinearity\n",
    "\n",
    "a. Re-estimate Model 1, except add north, south, east, and west as the additional right hand side variables."
   ]
  },
  {
   "cell_type": "code",
   "execution_count": 12,
   "metadata": {
    "ExecuteTime": {
     "end_time": "2019-08-19T08:23:01.310431Z",
     "start_time": "2019-08-19T08:23:01.305775Z"
    }
   },
   "outputs": [],
   "source": [
    "## a. Put your answer in this cell."
   ]
  },
  {
   "cell_type": "raw",
   "metadata": {},
   "source": [
    "\\pagebreak\n"
   ]
  },
  {
   "cell_type": "markdown",
   "metadata": {},
   "source": [
    "b.  What is wrong with this regression? What happens when you estimate it? How could fix this problem?\n",
    "\n",
    "**Hint: Look at the warnings underneath the regression.**"
   ]
  },
  {
   "cell_type": "markdown",
   "metadata": {},
   "source": [
    "**Please write your answer for b here. If you need to use more than one line, you may do so.**\n"
   ]
  },
  {
   "cell_type": "raw",
   "metadata": {},
   "source": [
    "\\pagebreak\n"
   ]
  },
  {
   "cell_type": "markdown",
   "metadata": {},
   "source": [
    "## Exercise 4: Auxiliary Regression"
   ]
  },
  {
   "cell_type": "markdown",
   "metadata": {},
   "source": [
    "Consider the following two regressions:\n",
    "\n",
    "\\begin{gather*}\n",
    "    LSAT_i = a_0 + a_1 GPA_i + v_i \\\\ \n",
    "    log(salary_i) = b_0 + b_1 v_i + e_i \n",
    "\\end{gather*}\n",
    "\n",
    "a. Estimate $b_1$. This is a two-step process. First, you need to estimate the first regression model and save the errors. Then, you regress $log(salary_i)$ on those errors ($v_i$). Compare your estimate of $b_1$ to the estimate you found from Model 2. Explain the similarity or difference. \n",
    "\n",
    "In order to do this, you need to save the errors (also called residuals) after you run the first stage. In order to do this, after fitting the first stage, the `results` variable will have an attribute `resid`. So to call the residuals all you need to do is type this: `results.resid`. \n",
    "\n",
    "You can then run the second stage in one of two ways:\n",
    "\n",
    "- 1. `assign` a new variable to your data, called \"residuals\" and run a regresion with it like any other variable, or\n",
    "- 2. Directly call `results.resid` in your second stage's `patsy formula`, i.e, ` 'log_salary ~ results.resid'`"
   ]
  },
  {
   "cell_type": "raw",
   "metadata": {},
   "source": [
    "\\pagebreak\n"
   ]
  },
  {
   "cell_type": "code",
   "execution_count": 11,
   "metadata": {
    "ExecuteTime": {
     "end_time": "2019-08-19T08:21:30.923973Z",
     "start_time": "2019-08-19T08:21:30.917886Z"
    }
   },
   "outputs": [],
   "source": [
    "## a. Put your answer in this cell.\n"
   ]
  },
  {
   "cell_type": "raw",
   "metadata": {},
   "source": [
    "\\pagebreak\n"
   ]
  },
  {
   "cell_type": "markdown",
   "metadata": {},
   "source": [
    "b. What do you notice from the coefficient on this regression, versus the one in Model 1?"
   ]
  },
  {
   "cell_type": "markdown",
   "metadata": {},
   "source": [
    "**Please write your answer for b here. If you need to use more than one line, you may do so.**\n"
   ]
  },
  {
   "cell_type": "raw",
   "metadata": {},
   "source": [
    "\\pagebreak\n"
   ]
  },
  {
   "cell_type": "markdown",
   "metadata": {},
   "source": [
    "## Exercise 5: Back to $R^2$\n",
    "\n",
    "Suppose that we have an estimated regression model $y_i = \\hat{b}_0 + \\hat{b}_1 x_i +e_i$, where $\\hat{b}_0,\\hat{b}_1$ are estimated OLS coefficients. Let $\\hat{y}_i = \\hat{b}_0 + \\hat{b}_1 x_i$, so that:\n",
    "\n",
    "$$\n",
    "y_i = \\hat{y}_i + e_i\n",
    "$$\n",
    "\n",
    "Let's look at the next step of solving this problem in order to finally get at solving a mystery we've had during the class. \n",
    "\n",
    "If we wanted to solve for the $R^2$, we would use the fact that a way to understand the variability in $y_i$ is to look at its variance. And we already know that:\n",
    "\n",
    "$$\n",
    "Var(y_i) = Var(\\hat{y_i} + e_i) = Var(\\hat{y_i}) + Var(e_i) + 2Cov(\\hat{y_i}, e_i)\n",
    "$$\n",
    "\n",
    "Up until now, we've just assumed it to be true that $Cov(\\hat{y_i}, e_i)$ was 0 and it allowed us to finish the proof. But all along, we've been implicitly assuming a Gauss-Markov assumption in order to make that claim.\n",
    "\n",
    "Which of the Gauss-Markov assumptions do we need in order to say that $Cov(\\hat{y_i}, e_i)=0$?\n",
    "\n",
    "**Hint: Don't forget that you can express the covariance in terms of expectations.**\n",
    "\n",
    "**Hint: Try plugging in $\\hat{y}_i = \\hat{b}_0 + \\hat{b}_1 x_i$ into this expression and seeing what you end up with.**\n",
    "\n",
    "**Hint: Don't forget that $\\sum_i^N e_i=0$**"
   ]
  },
  {
   "cell_type": "raw",
   "metadata": {},
   "source": [
    "\\pagebreak\n"
   ]
  },
  {
   "cell_type": "markdown",
   "metadata": {},
   "source": [
    "**Please write your answer for exercise 5 here. If you need to use more than one line, you may do so.**\n"
   ]
  },
  {
   "cell_type": "raw",
   "metadata": {},
   "source": [
    "\\pagebreak\n"
   ]
  },
  {
   "cell_type": "markdown",
   "metadata": {},
   "source": [
    "## Exercise 6: Data Types"
   ]
  },
  {
   "cell_type": "markdown",
   "metadata": {},
   "source": [
    "Let's say that we have a population model:\n",
    "\n",
    "$$\n",
    "Y = \\beta_0 + \\beta_1 X + \\epsilon\n",
    "$$\n",
    "\n",
    "The subscripts for the variables have been purposely omitted. For each part, rewrite the model so that it corresponds to each data type and explain why you wrote it that way.\n",
    "\n",
    "- a. Cross-section\n",
    "- b. Time Series\n",
    "- c. Panel"
   ]
  },
  {
   "cell_type": "raw",
   "metadata": {},
   "source": [
    "\\pagebreak\n"
   ]
  },
  {
   "cell_type": "markdown",
   "metadata": {},
   "source": [
    "**Please write your answer for exercise 6 here. If you need to use more than one line, you may do so.**\n",
    "\n",
    "- a. \n",
    "- b. \n",
    "- c."
   ]
  }
 ],
 "metadata": {
  "hide_input": false,
  "kernelspec": {
   "display_name": "Python 3",
   "language": "python",
   "name": "python3"
  },
  "language_info": {
   "codemirror_mode": {
    "name": "ipython",
    "version": 3
   },
   "file_extension": ".py",
   "mimetype": "text/x-python",
   "name": "python",
   "nbconvert_exporter": "python",
   "pygments_lexer": "ipython3",
   "version": "3.7.3"
  },
  "latex_envs": {
   "LaTeX_envs_menu_present": true,
   "autoclose": false,
   "autocomplete": true,
   "bibliofile": "biblio.bib",
   "cite_by": "apalike",
   "current_citInitial": 1,
   "eqLabelWithNumbers": true,
   "eqNumInitial": 1,
   "hotkeys": {
    "equation": "Ctrl-E",
    "itemize": "Ctrl-I"
   },
   "labels_anchors": false,
   "latex_user_defs": false,
   "report_style_numbering": false,
   "user_envs_cfg": false
  },
  "nbTranslate": {
   "displayLangs": [
    "*"
   ],
   "hotkey": "alt-t",
   "langInMainMenu": true,
   "sourceLang": "en",
   "targetLang": "fr",
   "useGoogleTranslate": true
  },
  "varInspector": {
   "cols": {
    "lenName": 16,
    "lenType": 16,
    "lenVar": 40
   },
   "kernels_config": {
    "python": {
     "delete_cmd_postfix": "",
     "delete_cmd_prefix": "del ",
     "library": "var_list.py",
     "varRefreshCmd": "print(var_dic_list())"
    },
    "r": {
     "delete_cmd_postfix": ") ",
     "delete_cmd_prefix": "rm(",
     "library": "var_list.r",
     "varRefreshCmd": "cat(var_dic_list()) "
    }
   },
   "types_to_exclude": [
    "module",
    "function",
    "builtin_function_or_method",
    "instance",
    "_Feature"
   ],
   "window_display": false
  }
 },
 "nbformat": 4,
 "nbformat_minor": 2
}
