{
 "cells": [
  {
   "cell_type": "markdown",
   "metadata": {},
   "source": [
    "# ARE 106 Summer Session II"
   ]
  },
  {
   "cell_type": "markdown",
   "metadata": {},
   "source": [
    "# Homework 4\n",
    "\n",
    "This homework will be due on **September 2nd, at 4:10pm**"
   ]
  },
  {
   "cell_type": "markdown",
   "metadata": {},
   "source": [
    "## Name: "
   ]
  },
  {
   "cell_type": "markdown",
   "metadata": {},
   "source": [
    "## SSID: "
   ]
  },
  {
   "cell_type": "markdown",
   "metadata": {},
   "source": [
    "Please put your name and SSID in the corresponding cells above.\n",
    "\n",
    "The homework is worth 13.5 points.\n",
    "\n",
    "For each of the following questions, show as much of your steps as you can (without going overboard). If you end up getting the wrong answer, but we spot where you made a mistake in the algebra, partial credit will be more readily given. If you only put the final answer, you will be marked either right or wrong.\n",
    "\n",
    "Answer questions in the correct cell. For problems where you have to input math, make sure that you know that it's a markdown cell (It won't have a `In: []` on the left) and make sure you run the cell by either pressing `Ctrl + Enter` or going to `Cell -> Run Cell`. Alternatively, write all your answers and then go to `Cell -> Run All Cells` after you're done. \n",
    "\n",
    "Please ignore cells that read `\\pagebreak`. These are so your document converts to PDF in a way that will make it possible to grade your homework. Ignore them and only write your answers where it is specified.\n",
    "\n",
    "**When you are finished export your homework to a PDF by going to `File -> Download as -> PDF`.**"
   ]
  },
  {
   "cell_type": "raw",
   "metadata": {},
   "source": [
    "\\pagebreak\n"
   ]
  },
  {
   "cell_type": "markdown",
   "metadata": {},
   "source": [
    "## Question 1: Unbiasedness \n",
    "\n",
    "For the following question, assume that we have a population model:\n",
    "\n",
    "$$\n",
    "Y_i = \\mu + \\varepsilon_i\n",
    "$$ \n",
    "\n",
    "where $E(\\varepsilon_i) = 0$.\n",
    "\n",
    "We're able to get a sample of $N$ observations of $Y_i$. For the following linear estimators of $\\mu$, find whether or not they are unbiased estimators of $Y_i$.\n",
    "\n",
    "- a. $\\frac{1}{N}\\sum_i^N Y_i$\n",
    "- b. $\\sum_i^N Y_i$\n",
    "- c. $Y_3$\n"
   ]
  },
  {
   "cell_type": "raw",
   "metadata": {},
   "source": [
    "\\pagebreak\n"
   ]
  },
  {
   "cell_type": "markdown",
   "metadata": {},
   "source": [
    "**Please write your answer here. If you need to use more than one line, you may do so.**\n",
    "\n",
    "- a. \n",
    "- b. \n",
    "- c. \n"
   ]
  },
  {
   "cell_type": "raw",
   "metadata": {},
   "source": [
    "\\pagebreak\n"
   ]
  },
  {
   "cell_type": "markdown",
   "metadata": {},
   "source": [
    "## Question 2: More Unbiasedness\n",
    "\n",
    "\n",
    "Now suppose that the population model is:\n",
    "\n",
    "$$\n",
    "Y_i = \\beta_0 + \\beta_1 X_i + \\varepsilon_i\n",
    "$$\n",
    "\n",
    "where $X_i$ is some data and is treated as *given* (i.e. not a random variable). Once again, $E(\\varepsilon_i)=0$. Assume that all Gauss-Markov assumptions are satisfied.\n",
    "\n",
    "We're able to get a sample of $N$ observations of $Y_i$. For the following linear estimators of $\\beta_1$, answer the following questions.\n",
    "\n",
    "- a. What is the expected value of: $\\sum_i^N k_i Y_i$, where $k_i$ is some weight for every observation, which is not dependent on $Y_i$ (not necessarily the OLS weight!!). Also do not bring in the expectation operator, just leave the operator outside the expression.\n",
    "- b. What has to be true in order for the estimator in a. to be unbiased? \n",
    "- c. What Gauss-Markov assumption do we use to make sure that $\\sum_i^N k_i \\varepsilon_i=0$ in the OLS case?\n",
    "- d. What is the expected value of: $\\frac{1}{N} \\sum_i^N Y_i$. Let $E(X_i)=\\mu_x$\n",
    "- e. What needs to be true, so that the estimator in d. is unbiased?\n"
   ]
  },
  {
   "cell_type": "raw",
   "metadata": {},
   "source": [
    "\\pagebreak\n"
   ]
  },
  {
   "cell_type": "markdown",
   "metadata": {},
   "source": [
    "**Please write your answer here. If you need to use more than one line, you may do so.**\n",
    "\n",
    "- a. \n",
    "- b. \n",
    "- c. \n",
    "- d. \n",
    "- e. \n"
   ]
  },
  {
   "cell_type": "raw",
   "metadata": {},
   "source": [
    "\\pagebreak\n"
   ]
  },
  {
   "cell_type": "markdown",
   "metadata": {},
   "source": [
    "## Question 3: Variance of an Estimator\n",
    "\n",
    "For the following question, assume that we have two possible population models:\n",
    "\n",
    "$$\n",
    "Y_i = \\mu + \\varepsilon_i\n",
    "$$\n",
    "\n",
    "where $E(\\varepsilon_i) = 0$.\n",
    "\n",
    "We're able to get a sample of $N$ observations of $Y_i$. For the following linear estimators of $\\mu$, find the variance of the estimator. \n",
    "\n",
    "**Note: It need not be the case that $Cov(\\varepsilon_i, \\varepsilon_j)=0$ or that $Var(\\varepsilon_i) = \\sigma^2$, unless explicitly stated.**\n",
    "\n",
    "- a. $\\frac{1}{N}\\sum_i^N Y_i$, with $Cov(\\varepsilon_i, \\varepsilon_j)=0$ and $Var(\\varepsilon_i) = \\sigma^2$\n",
    "- b. $\\frac{1}{N}\\sum_i^N Y_i$, with $Cov(\\varepsilon_i, \\varepsilon_j)=0$ and $Var(\\varepsilon_i) = \\sigma_i^2$. **Note the difference!**\n",
    "- c. $\\frac{Y_1 + Y_2}{2}$, with $Cov(\\varepsilon_i, \\varepsilon_j)\\neq0$ and $Var(\\varepsilon_i) = \\sigma^2$\n",
    "- d. Would the estimator from c. be an unbiased estimator of $\\sigma^2$?\n"
   ]
  },
  {
   "cell_type": "raw",
   "metadata": {},
   "source": [
    "\\pagebreak\n"
   ]
  },
  {
   "cell_type": "markdown",
   "metadata": {},
   "source": [
    "**Please write your answer here. If you need to use more than one line, you may do so.**\n",
    "\n",
    "- a. \n",
    "- b. \n",
    "- c. \n",
    "- d. "
   ]
  },
  {
   "cell_type": "raw",
   "metadata": {},
   "source": [
    "\\pagebreak\n"
   ]
  },
  {
   "cell_type": "markdown",
   "metadata": {},
   "source": [
    "## Question 4: Showing Unbiasedness with Data\n",
    "\n",
    "For this question, we're going to create some random data, and see how well the OLS estimator is able to estimate this data.\n",
    "\n",
    "Suppose we have a population model:\n",
    "\n",
    "$$\n",
    "Y_i = \\beta_0 + \\beta_1 X_i + \\varepsilon_i\n",
    "$$\n",
    "\n",
    "First, we're going to create random data for $Y_i$ and $X_i$. This will involve using the `random` library in Python. \n",
    "\n",
    "This the code to generate the random data and construct our population model. **Note that we in constructing this population model, we are following the Gauss Markov assumptions**:\n",
    "\n",
    "```python\n",
    "## imports\n",
    "import numpy as np \n",
    "import pandas as pd\n",
    "import statsmodels.formula.api as sm\n",
    "\n",
    "## This is for making graphs\n",
    "import matplotlib.pyplot as plt\n",
    "\n",
    "\n",
    "## define error\n",
    "## makes 1000 normally distributed observations with mean 0 and standard deviaion 1\n",
    "epsilon = np.random.normal(0,1, 1000) \n",
    "\n",
    "## define X data\n",
    "## makes 1000 normally distributed observations with mean 3 and standard deviaion 2\n",
    "X = np.random.normal(3, 2, 1000)\n",
    "\n",
    "## Define population parameters\n",
    "beta_0 = 2\n",
    "beta_1 = .5\n",
    "\n",
    "## Define Y data\n",
    "Y = beta_0 +  beta_1*X + epsilon\n",
    "\n",
    "## Put it all in a pandas dataframe\n",
    "df = pd.DataFrame({'Y': Y,\n",
    "             'X': X})\n",
    "             \n",
    "```\n"
   ]
  },
  {
   "cell_type": "raw",
   "metadata": {},
   "source": [
    "\\pagebreak\n"
   ]
  },
  {
   "cell_type": "markdown",
   "metadata": {},
   "source": [
    "a. Before running the code, look at the code. What Gauss-Markov assumption is responsible for the fact that $\\varepsilon_i$ comes from a *normal distribution*?"
   ]
  },
  {
   "cell_type": "markdown",
   "metadata": {},
   "source": [
    "**Please write your answer here. If you need to use more than one line, you may do so.**\n"
   ]
  },
  {
   "cell_type": "raw",
   "metadata": {},
   "source": [
    "\\pagebreak\n"
   ]
  },
  {
   "cell_type": "markdown",
   "metadata": {},
   "source": [
    "b. Before running the code, What Gauss-Markov assumption is responsible for the fact that $\\varepsilon_i$ comes from the fact that $\\varepsilon_i$ comes from a distribution whose variance (or in this case standard deviation) that doesn't change?"
   ]
  },
  {
   "cell_type": "markdown",
   "metadata": {},
   "source": [
    "**Please write your answer here. If you need to use more than one line, you may do so.**"
   ]
  },
  {
   "cell_type": "raw",
   "metadata": {},
   "source": [
    "\\pagebreak\n"
   ]
  },
  {
   "cell_type": "markdown",
   "metadata": {},
   "source": [
    "c. Run the regression of $Y$ on $X$. \n",
    "\n",
    "What is the estimate? What is the normalized z-score for this estimate? Put your anwer in a print statement f-string (Put this print statement before the `summary()` call so both show up). \n",
    "\n",
    "**Hint: you know what the population parameter actually is.**\n",
    "\n",
    "**Hint: You can either write down the parameters from the regression or use `results.params['X']` for $\\hat{b}_1$ and `results.bse['X']` for the standard error of $\\hat{b}_1$.**\n",
    "\n",
    "**Note: By normalized z-score, I mean the transformation that makes the estimate in terms of a Normal distribution of mean 0 and variance 1.**"
   ]
  },
  {
   "cell_type": "raw",
   "metadata": {},
   "source": [
    "\\pagebreak\n"
   ]
  },
  {
   "cell_type": "raw",
   "metadata": {},
   "source": [
    "\\pagebreak\n"
   ]
  },
  {
   "cell_type": "code",
   "execution_count": 1,
   "metadata": {
    "ExecuteTime": {
     "end_time": "2019-08-24T00:26:54.605512Z",
     "start_time": "2019-08-24T00:26:54.598896Z"
    }
   },
   "outputs": [],
   "source": [
    "## Put your answer in this cell.\n"
   ]
  },
  {
   "cell_type": "raw",
   "metadata": {},
   "source": [
    "\\pagebreak\n"
   ]
  },
  {
   "cell_type": "markdown",
   "metadata": {},
   "source": [
    "d. Now let's get a sample of this and data and run our regression on it. To do this, use the `sample` method on the `df` dataframe:\n",
    "\n",
    "```python\n",
    "df.sample(n=<number>, replace=True)\n",
    "```\n",
    "\n",
    "We set `replace=True`, so that we can sample observations with replacement (this is more important if we keep taking random samples).\n",
    "\n",
    "Sample 100 observations with replacement from `df` and call this `sample_df`. \n",
    "\n",
    "Run the regression of Y on X with the sample data. Run it a few times and see how it changes (you do need to need rerun the previous cells if you rerun this one a few times. That's because the initial data has already been created.)\n"
   ]
  },
  {
   "cell_type": "raw",
   "metadata": {},
   "source": [
    "\\pagebreak\n"
   ]
  },
  {
   "cell_type": "code",
   "execution_count": 7,
   "metadata": {
    "ExecuteTime": {
     "end_time": "2019-08-24T00:37:01.639740Z",
     "start_time": "2019-08-24T00:37:01.633496Z"
    }
   },
   "outputs": [],
   "source": [
    "## Put your answer in this cell.\n",
    "\n",
    "\n"
   ]
  },
  {
   "cell_type": "raw",
   "metadata": {},
   "source": [
    "\\pagebreak\n"
   ]
  },
  {
   "cell_type": "markdown",
   "metadata": {},
   "source": [
    "e. Which regression has a higher standard error for $\\hat{b}_1$? Why?"
   ]
  },
  {
   "cell_type": "raw",
   "metadata": {},
   "source": [
    "\\pagebreak\n"
   ]
  },
  {
   "cell_type": "markdown",
   "metadata": {},
   "source": [
    "**Please write your answer here. If you need to use more than one line, you may do so.**\n",
    "\n"
   ]
  },
  {
   "cell_type": "raw",
   "metadata": {},
   "source": [
    "\\pagebreak\n"
   ]
  },
  {
   "cell_type": "markdown",
   "metadata": {},
   "source": [
    "f. Now let's see what happens when we keep sampling. This will allow us to construct a distribution for $\\hat{b}_1$. This will involve making a loop much like in HW2.\n",
    "\n",
    "Write a loop that loops over the many regressions and stores the results in a list. Run the loop 1000 times. Call this list `b_dist`.\n",
    "\n",
    "Instead of appending a number multiplied by another as in HW2, append `results.params['X']` (I'm assuming that you're using `results= mod.fit()`).\n",
    "\n",
    "Remember to put in a sample command in the loop, so that new data can be sampled every iteration.\n",
    "\n",
    "So your loop should look like this:\n",
    "\n",
    "```python\n",
    "b_dist = []\n",
    "\n",
    "for reg in <<the range from 0 to 1000>>:\n",
    "    \n",
    "    <<sampling command>>\n",
    "    <<regression commands>>\n",
    "    <<parameter appending to b_dist>>\n",
    "```\n",
    "    \n",
    "\n",
    "After the loop, make this list into a `pandas` dataframe and call it `b_dist_df`: `b_dist_df = pd.DataFrame({'b_dist':b_dist})`\n",
    "\n",
    "**Note: It might take a while.**"
   ]
  },
  {
   "cell_type": "raw",
   "metadata": {},
   "source": [
    "\\pagebreak\n"
   ]
  },
  {
   "cell_type": "code",
   "execution_count": 3,
   "metadata": {
    "ExecuteTime": {
     "end_time": "2019-08-24T00:27:10.566343Z",
     "start_time": "2019-08-24T00:27:10.560134Z"
    }
   },
   "outputs": [],
   "source": [
    "## Put your answer in this cell.\n",
    "\n",
    "\n"
   ]
  },
  {
   "cell_type": "raw",
   "metadata": {},
   "source": [
    "\\pagebreak\n"
   ]
  },
  {
   "cell_type": "markdown",
   "metadata": {},
   "source": [
    "g.Now create a histogram of `b_dist` with:\n",
    "\n",
    "```python\n",
    "b_dist_df.hist()\n",
    "```"
   ]
  },
  {
   "cell_type": "raw",
   "metadata": {},
   "source": [
    "\\pagebreak\n"
   ]
  },
  {
   "cell_type": "code",
   "execution_count": 8,
   "metadata": {
    "ExecuteTime": {
     "end_time": "2019-08-24T00:37:35.703655Z",
     "start_time": "2019-08-24T00:37:35.692391Z"
    }
   },
   "outputs": [],
   "source": [
    "%matplotlib inline \n",
    "## Do not modify the above\n",
    "\n",
    "## Put your answer in this cell.\n",
    "\n"
   ]
  },
  {
   "cell_type": "raw",
   "metadata": {},
   "source": [
    "\\pagebreak\n"
   ]
  },
  {
   "cell_type": "markdown",
   "metadata": {},
   "source": [
    "h. What is the mean of `b_dist`? "
   ]
  },
  {
   "cell_type": "raw",
   "metadata": {},
   "source": [
    "\\pagebreak\n"
   ]
  },
  {
   "cell_type": "code",
   "execution_count": 5,
   "metadata": {
    "ExecuteTime": {
     "end_time": "2019-08-24T00:27:19.722993Z",
     "start_time": "2019-08-24T00:27:19.714370Z"
    }
   },
   "outputs": [],
   "source": [
    "## Put your answer in this cell.\n",
    "\n"
   ]
  },
  {
   "cell_type": "raw",
   "metadata": {},
   "source": [
    "\\pagebreak\n"
   ]
  },
  {
   "cell_type": "markdown",
   "metadata": {},
   "source": [
    "h. Plot a vertical line on the histogram, which denotes the population parameter, $\\beta_1$. To do this, you can do this:\n",
    "\n",
    "```python\n",
    "b_dist_df.hist()\n",
    "plt.axvline(<population parameter here>, color='red')\n",
    "```\n",
    "\n",
    "Does the OLS estimator seem unbiased? What would have made each estimate even closer to the population parameter? Write your answer in a print statement."
   ]
  },
  {
   "cell_type": "raw",
   "metadata": {},
   "source": [
    "\\pagebreak\n"
   ]
  },
  {
   "cell_type": "code",
   "execution_count": 9,
   "metadata": {
    "ExecuteTime": {
     "end_time": "2019-08-24T00:37:46.541857Z",
     "start_time": "2019-08-24T00:37:46.533704Z"
    }
   },
   "outputs": [],
   "source": [
    "## Put your answer in this cell.\n",
    "\n"
   ]
  }
 ],
 "metadata": {
  "hide_input": false,
  "kernelspec": {
   "display_name": "Python 3",
   "language": "python",
   "name": "python3"
  },
  "language_info": {
   "codemirror_mode": {
    "name": "ipython",
    "version": 3
   },
   "file_extension": ".py",
   "mimetype": "text/x-python",
   "name": "python",
   "nbconvert_exporter": "python",
   "pygments_lexer": "ipython3",
   "version": "3.7.4"
  },
  "latex_envs": {
   "LaTeX_envs_menu_present": true,
   "autoclose": false,
   "autocomplete": true,
   "bibliofile": "biblio.bib",
   "cite_by": "apalike",
   "current_citInitial": 1,
   "eqLabelWithNumbers": true,
   "eqNumInitial": 1,
   "hotkeys": {
    "equation": "Ctrl-E",
    "itemize": "Ctrl-I"
   },
   "labels_anchors": false,
   "latex_user_defs": false,
   "report_style_numbering": false,
   "user_envs_cfg": false
  },
  "nbTranslate": {
   "displayLangs": [
    "*"
   ],
   "hotkey": "alt-t",
   "langInMainMenu": true,
   "sourceLang": "en",
   "targetLang": "fr",
   "useGoogleTranslate": true
  },
  "varInspector": {
   "cols": {
    "lenName": 16,
    "lenType": 16,
    "lenVar": 40
   },
   "kernels_config": {
    "python": {
     "delete_cmd_postfix": "",
     "delete_cmd_prefix": "del ",
     "library": "var_list.py",
     "varRefreshCmd": "print(var_dic_list())"
    },
    "r": {
     "delete_cmd_postfix": ") ",
     "delete_cmd_prefix": "rm(",
     "library": "var_list.r",
     "varRefreshCmd": "cat(var_dic_list()) "
    }
   },
   "types_to_exclude": [
    "module",
    "function",
    "builtin_function_or_method",
    "instance",
    "_Feature"
   ],
   "window_display": false
  }
 },
 "nbformat": 4,
 "nbformat_minor": 2
}
