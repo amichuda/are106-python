{
 "cells": [
  {
   "cell_type": "markdown",
   "metadata": {},
   "source": [
    "# ARE 106 Summer Session II"
   ]
  },
  {
   "cell_type": "markdown",
   "metadata": {},
   "source": [
    "# Homework 4\n",
    "\n",
    "This homework will be due on **September 2nd, at 4:10pm**"
   ]
  },
  {
   "cell_type": "markdown",
   "metadata": {},
   "source": [
    "## Name: "
   ]
  },
  {
   "cell_type": "markdown",
   "metadata": {},
   "source": [
    "## SSID: "
   ]
  },
  {
   "cell_type": "markdown",
   "metadata": {},
   "source": [
    "Please put your name and SSID in the corresponding cells above.\n",
    "\n",
    "The homework is worth 13.5 points.\n",
    "\n",
    "For each of the following questions, show as much of your steps as you can (without going overboard). If you end up getting the wrong answer, but we spot where you made a mistake in the algebra, partial credit will be more readily given. If you only put the final answer, you will be marked either right or wrong.\n",
    "\n",
    "Answer questions in the correct cell. For problems where you have to input math, make sure that you know that it's a markdown cell (It won't have a `In: []` on the left) and make sure you run the cell by either pressing `Ctrl + Enter` or going to `Cell -> Run Cell`. Alternatively, write all your answers and then go to `Cell -> Run All Cells` after you're done. \n",
    "\n",
    "Please ignore cells that read `\\pagebreak`. These are so your document converts to PDF in a way that will make it possible to grade your homework. Ignore them and only write your answers where it is specified.\n",
    "\n",
    "**When you are finished export your homework to a PDF by going to `File -> Download as -> PDF`.**"
   ]
  },
  {
   "cell_type": "raw",
   "metadata": {},
   "source": [
    "\\pagebreak\n"
   ]
  },
  {
   "cell_type": "markdown",
   "metadata": {},
   "source": [
    "## Question 1: Unbiasedness \n",
    "\n",
    "For the following question, assume that we have a population model:\n",
    "\n",
    "$$\n",
    "Y_i = \\mu + \\varepsilon_i\n",
    "$$ \n",
    "\n",
    "where $E(\\varepsilon_i) = 0$.\n",
    "\n",
    "We're able to get a sample of $N$ observations of $Y_i$. For the following linear estimators of $\\mu$, find whether or not they are unbiased estimators of $Y_i$.\n",
    "\n",
    "- a. $\\frac{1}{N}\\sum_i^N Y_i$\n",
    "- b. $\\sum_i^N Y_i$\n",
    "- c. $Y_3$\n"
   ]
  },
  {
   "cell_type": "raw",
   "metadata": {},
   "source": [
    "\\pagebreak\n"
   ]
  },
  {
   "cell_type": "markdown",
   "metadata": {},
   "source": [
    "**Please write your answer here. If you need to use more than one line, you may do so.**\n",
    "\n",
    "- a. $E( \\frac{1}{N}\\sum_i^N Y_i)= \\frac{1}{N}E(\\sum_i^N Y_i) =  \\frac{1}{N}\\sum_i^N E(Y_i) = \\frac{1}{N}\\sum_i^N \\mu = \\frac{1}{N} \\cdot N \\cdot \\mu = \\mu$. Unbiased\n",
    "- b. $E(\\sum_i^N Y_i) = \\sum_i^N E(Y_i) = \\sum_i^N \\mu  = N\\cdot \\mu$ Biased.\n",
    "- c. $E(Y_3) = \\mu$ Unbiased.\n"
   ]
  },
  {
   "cell_type": "raw",
   "metadata": {},
   "source": [
    "\\pagebreak\n"
   ]
  },
  {
   "cell_type": "markdown",
   "metadata": {},
   "source": [
    "## Question 2: More Unbiasedness\n",
    "\n",
    "\n",
    "Now suppose that the population model is:\n",
    "\n",
    "$$\n",
    "Y_i = \\beta_0 + \\beta_1 X_i + \\varepsilon_i\n",
    "$$\n",
    "\n",
    "where $X_i$ is some data and is treated as *given* (i.e. not a random variable). Once again, $E(\\varepsilon_i)=0$. Assume that all Gauss-Markov assumptions are satisfied.\n",
    "\n",
    "We're able to get a sample of $N$ observations of $Y_i$. For the following linear estimators of $\\beta_1$, answer the following questions.\n",
    "\n",
    "- a. What is the expected value of: $\\sum_i^N k_i Y_i$, where $k_i$ is some weight for every observation, which is not dependent on $Y_i$ (not necessarily the OLS weight!!). Also do not bring in the expectation operator, just leave the operator outside the expression.\n",
    "- b. What has to be true in order for the estimator in a. to be unbiased? \n",
    "- c. What Gauss-Markov assumption do we use to make sure that $\\sum_i^N k_i \\varepsilon_i=0$ in the OLS case?\n",
    "- d. What is the expected value of: $\\frac{1}{N} \\sum_i^N Y_i$. Let $E(X_i)=\\mu_x$\n",
    "- e. What needs to be true, so that the estimator in d. is unbiased?\n"
   ]
  },
  {
   "cell_type": "raw",
   "metadata": {},
   "source": [
    "\\pagebreak\n"
   ]
  },
  {
   "cell_type": "markdown",
   "metadata": {},
   "source": [
    "**Please write your answer here. If you need to use more than one line, you may do so.**\n",
    "\n",
    "- a. $E(\\sum_i^N k_i Y_i) = E(\\sum_i^N k_i (\\beta_0 + \\beta_1 X_i + \\varepsilon_i)) = E(\\beta_0 \\sum_i^N k_i +  \\beta_1 \\sum_i^N k_i X_i + \\sum_i^N k_i \\varepsilon_i)$\n",
    "- b. We need $\\sum_i^N k_i = 0$, $\\sum_i^N k_i X_i=1$, and $\\sum_i^N k_i \\varepsilon_i=0$\n",
    "- c. CR 5: exogeneity of the $X_i$ variables.\n",
    "- d. $E(\\frac{1}{N} \\sum_i^N Y_i) = E(\\frac{1}{N} \\sum_i^N(\\beta_0 + \\beta_1 X_i + \\varepsilon_i))= \\frac{1}{N} \\sum_i^N E(\\beta_0) + \\beta_1 \\frac{1}{N}\\sum_i^N E(X_i) + \\frac{1}{N} \\sum_i^N E(\\varepsilon_i)= \\beta_0 + \\beta_1 \\mu_x$\n",
    "- e. $\\beta_0 =0$ and $\\mu_x=1$.\n"
   ]
  },
  {
   "cell_type": "raw",
   "metadata": {},
   "source": [
    "\\pagebreak\n"
   ]
  },
  {
   "cell_type": "markdown",
   "metadata": {},
   "source": [
    "## Question 3: Variance of an Estimator\n",
    "\n",
    "For the following question, assume that we have two possible population models:\n",
    "\n",
    "$$\n",
    "Y_i = \\mu + \\varepsilon_i\n",
    "$$\n",
    "\n",
    "where $E(\\varepsilon_i) = 0$.\n",
    "\n",
    "We're able to get a sample of $N$ observations of $Y_i$. For the following linear estimators of $\\mu$, find the variance of the estimator. \n",
    "\n",
    "**Note: It need not be the case that $Cov(\\varepsilon_i, \\varepsilon_j)=0$ or that $Var(\\varepsilon_i) = \\sigma^2$, unless explicitly stated.**\n",
    "\n",
    "- a. $\\frac{1}{N}\\sum_i^N Y_i$, with $Cov(\\varepsilon_i, \\varepsilon_j)=0$ and $Var(\\varepsilon_i) = \\sigma^2$\n",
    "- b. $\\frac{1}{N}\\sum_i^N Y_i$, with $Cov(\\varepsilon_i, \\varepsilon_j)=0$ and $Var(\\varepsilon_i) = \\sigma_i^2$. **Note the difference!**\n",
    "- c. $\\frac{Y_1 + Y_2}{2}$, with $Cov(\\varepsilon_i, \\varepsilon_j)\\neq0$ and $Var(\\varepsilon_i) = \\sigma^2$\n",
    "- d. Would the estimator from c. be an unbiased estimator of $\\sigma^2$?\n"
   ]
  },
  {
   "cell_type": "raw",
   "metadata": {},
   "source": [
    "\\pagebreak\n"
   ]
  },
  {
   "cell_type": "markdown",
   "metadata": {},
   "source": [
    "**Please write your answer here. If you need to use more than one line, you may do so.**\n",
    "\n",
    "- a. $Var(\\frac{1}{N}\\sum_i^N Y_i)=\\frac{1}{N^2} \\sum_i^N Var(Y_i) = \\frac{1}{N^2} N \\sigma^2 = \\frac{1}{N} \\sigma^2$\n",
    "- b. $Var(\\frac{1}{N}\\sum_i^N Y_i)=\\frac{1}{N^2} \\sum_i^N Var(Y_i) = \\frac{1}{N^2} \\sum_i^N \\sigma^2_i$\n",
    "- c. $Var(\\frac{Y_1 + Y_2}{2})= Var(\\frac{1}{2} Y_1) + Var(\\frac{1}{2} Y_2) + 2 Cov(\\frac{1}{2} Y_1, \\frac{1}{2} Y_2)= \\frac{1}{4} \\sigma^2 + \\frac{1}{4} \\sigma^2 + \\frac{1}{2} Cov(Y_1, Y_2)=\\frac{1}{2} \\sigma^2 + \\frac{1}{2} Cov(Y_1, Y_2)$\n",
    "- d. No, because there is a non-zero covariance term and $\\sigma^2$ is being multiplied by $\\frac{1}{2}$"
   ]
  },
  {
   "cell_type": "raw",
   "metadata": {},
   "source": [
    "\\pagebreak\n"
   ]
  },
  {
   "cell_type": "markdown",
   "metadata": {},
   "source": [
    "## Question 4: Showing Unbiasedness with Data\n",
    "\n",
    "For this question, we're going to create some random data, and see how well the OLS estimator is able to estimate this data.\n",
    "\n",
    "Suppose we have a population model:\n",
    "\n",
    "$$\n",
    "Y_i = \\beta_0 + \\beta_1 X_i + \\varepsilon_i\n",
    "$$\n",
    "\n",
    "First, we're going to create random data for $Y_i$ and $X_i$. This will involve using the `random` library in Python. \n",
    "\n",
    "This the code to generate the random data and construct our population model. **Note that we in constructing this population model, we are following the Gauss Markov assumptions**:\n",
    "\n",
    "```python\n",
    "## imports\n",
    "import numpy as np \n",
    "import pandas as pd\n",
    "import statsmodels.formula.api as sm\n",
    "\n",
    "## This is for making graphs\n",
    "import matplotlib.pyplot as plt\n",
    "\n",
    "\n",
    "## define error\n",
    "## makes 1000 normally distributed observations with mean 0 and standard deviaion 1\n",
    "epsilon = np.random.normal(0,1, 1000) \n",
    "\n",
    "## define X data\n",
    "## makes 1000 normally distributed observations with mean 3 and standard deviaion 2\n",
    "X = np.random.normal(3, 2, 1000)\n",
    "\n",
    "## Define population parameters\n",
    "beta_0 = 2\n",
    "beta_1 = .5\n",
    "\n",
    "## Define Y data\n",
    "Y = beta_0 +  beta_1*X + epsilon\n",
    "\n",
    "## Put it all in a pandas dataframe\n",
    "df = pd.DataFrame({'Y': Y,\n",
    "             'X': X})\n",
    "             \n",
    "```\n"
   ]
  },
  {
   "cell_type": "raw",
   "metadata": {},
   "source": [
    "\\pagebreak\n"
   ]
  },
  {
   "cell_type": "markdown",
   "metadata": {},
   "source": [
    "a. Before running the code, look at the code. What Gauss-Markov assumption is responsible for the fact that $\\varepsilon_i$ comes from a *normal distribution*?"
   ]
  },
  {
   "cell_type": "markdown",
   "metadata": {},
   "source": [
    "**Please write your answer here. If you need to use more than one line, you may do so.**\n",
    "\n",
    "CR4- normally distributed errors"
   ]
  },
  {
   "cell_type": "raw",
   "metadata": {},
   "source": [
    "\\pagebreak\n"
   ]
  },
  {
   "cell_type": "markdown",
   "metadata": {},
   "source": [
    "b. Before running the code, What Gauss-Markov assumption is responsible for the fact that $\\varepsilon_i$ comes from the fact that $\\varepsilon_i$ comes from a distribution whose variance (or in this case standard deviation) that doesn't change?"
   ]
  },
  {
   "cell_type": "markdown",
   "metadata": {},
   "source": [
    "**Please write your answer here. If you need to use more than one line, you may do so.**\n",
    "\n",
    "CR3- homoskedasticity"
   ]
  },
  {
   "cell_type": "raw",
   "metadata": {},
   "source": [
    "\\pagebreak\n"
   ]
  },
  {
   "cell_type": "markdown",
   "metadata": {},
   "source": [
    "c. Run the regression of $Y$ on $X$. \n",
    "\n",
    "What is the estimate? What is the normalized z-score for this estimate? Put your anwer in a print statement f-string (Put this print statement before the `summary()` call so both show up). \n",
    "\n",
    "**Hint: you know what the population parameter actually is.**\n",
    "\n",
    "**Hint: You can either write down the parameters from the regression or use `results.params['X']` for $\\hat{b}_1$ and `results.bse['X']` for the standard error of $\\hat{b}_1$.**\n",
    "\n",
    "**Note: By normalized z-score, I mean the transformation that makes the estimate in terms of a Normal distribution of mean 0 and variance 1.**"
   ]
  },
  {
   "cell_type": "raw",
   "metadata": {},
   "source": [
    "\\pagebreak\n"
   ]
  },
  {
   "cell_type": "code",
   "execution_count": 19,
   "metadata": {
    "ExecuteTime": {
     "end_time": "2019-08-28T04:15:59.403116Z",
     "start_time": "2019-08-28T04:15:59.369574Z"
    }
   },
   "outputs": [
    {
     "name": "stdout",
     "output_type": "stream",
     "text": [
      "The normalized z-score is 65.10924550509961\n"
     ]
    },
    {
     "data": {
      "text/html": [
       "<table class=\"simpletable\">\n",
       "<caption>OLS Regression Results</caption>\n",
       "<tr>\n",
       "  <th>Dep. Variable:</th>            <td>Y</td>        <th>  R-squared:         </th> <td>   0.833</td>\n",
       "</tr>\n",
       "<tr>\n",
       "  <th>Model:</th>                   <td>OLS</td>       <th>  Adj. R-squared:    </th> <td>   0.832</td>\n",
       "</tr>\n",
       "<tr>\n",
       "  <th>Method:</th>             <td>Least Squares</td>  <th>  F-statistic:       </th> <td>   4966.</td>\n",
       "</tr>\n",
       "<tr>\n",
       "  <th>Date:</th>             <td>Tue, 27 Aug 2019</td> <th>  Prob (F-statistic):</th>  <td>  0.00</td> \n",
       "</tr>\n",
       "<tr>\n",
       "  <th>Time:</th>                 <td>21:15:59</td>     <th>  Log-Likelihood:    </th> <td> -3204.3</td>\n",
       "</tr>\n",
       "<tr>\n",
       "  <th>No. Observations:</th>      <td>  1000</td>      <th>  AIC:               </th> <td>   6413.</td>\n",
       "</tr>\n",
       "<tr>\n",
       "  <th>Df Residuals:</th>          <td>   998</td>      <th>  BIC:               </th> <td>   6422.</td>\n",
       "</tr>\n",
       "<tr>\n",
       "  <th>Df Model:</th>              <td>     1</td>      <th>                     </th>     <td> </td>   \n",
       "</tr>\n",
       "<tr>\n",
       "  <th>Covariance Type:</th>      <td>nonrobust</td>    <th>                     </th>     <td> </td>   \n",
       "</tr>\n",
       "</table>\n",
       "<table class=\"simpletable\">\n",
       "<tr>\n",
       "      <td></td>         <th>coef</th>     <th>std err</th>      <th>t</th>      <th>P>|t|</th>  <th>[0.025</th>    <th>0.975]</th>  \n",
       "</tr>\n",
       "<tr>\n",
       "  <th>Intercept</th> <td>   -3.1819</td> <td>    0.339</td> <td>   -9.390</td> <td> 0.000</td> <td>   -3.847</td> <td>   -2.517</td>\n",
       "</tr>\n",
       "<tr>\n",
       "  <th>X</th>         <td>    6.5762</td> <td>    0.093</td> <td>   70.467</td> <td> 0.000</td> <td>    6.393</td> <td>    6.759</td>\n",
       "</tr>\n",
       "</table>\n",
       "<table class=\"simpletable\">\n",
       "<tr>\n",
       "  <th>Omnibus:</th>       <td>844.815</td> <th>  Durbin-Watson:     </th> <td>   1.990</td> \n",
       "</tr>\n",
       "<tr>\n",
       "  <th>Prob(Omnibus):</th> <td> 0.000</td>  <th>  Jarque-Bera (JB):  </th> <td>28824.463</td>\n",
       "</tr>\n",
       "<tr>\n",
       "  <th>Skew:</th>          <td> 3.688</td>  <th>  Prob(JB):          </th> <td>    0.00</td> \n",
       "</tr>\n",
       "<tr>\n",
       "  <th>Kurtosis:</th>      <td>28.247</td>  <th>  Cond. No.          </th> <td>    6.87</td> \n",
       "</tr>\n",
       "</table><br/><br/>Warnings:<br/>[1] Standard Errors assume that the covariance matrix of the errors is correctly specified."
      ],
      "text/plain": [
       "<class 'statsmodels.iolib.summary.Summary'>\n",
       "\"\"\"\n",
       "                            OLS Regression Results                            \n",
       "==============================================================================\n",
       "Dep. Variable:                      Y   R-squared:                       0.833\n",
       "Model:                            OLS   Adj. R-squared:                  0.832\n",
       "Method:                 Least Squares   F-statistic:                     4966.\n",
       "Date:                Tue, 27 Aug 2019   Prob (F-statistic):               0.00\n",
       "Time:                        21:15:59   Log-Likelihood:                -3204.3\n",
       "No. Observations:                1000   AIC:                             6413.\n",
       "Df Residuals:                     998   BIC:                             6422.\n",
       "Df Model:                           1                                         \n",
       "Covariance Type:            nonrobust                                         \n",
       "==============================================================================\n",
       "                 coef    std err          t      P>|t|      [0.025      0.975]\n",
       "------------------------------------------------------------------------------\n",
       "Intercept     -3.1819      0.339     -9.390      0.000      -3.847      -2.517\n",
       "X              6.5762      0.093     70.467      0.000       6.393       6.759\n",
       "==============================================================================\n",
       "Omnibus:                      844.815   Durbin-Watson:                   1.990\n",
       "Prob(Omnibus):                  0.000   Jarque-Bera (JB):            28824.463\n",
       "Skew:                           3.688   Prob(JB):                         0.00\n",
       "Kurtosis:                      28.247   Cond. No.                         6.87\n",
       "==============================================================================\n",
       "\n",
       "Warnings:\n",
       "[1] Standard Errors assume that the covariance matrix of the errors is correctly specified.\n",
       "\"\"\""
      ]
     },
     "execution_count": 19,
     "metadata": {},
     "output_type": "execute_result"
    }
   ],
   "source": [
    "## Put your answer in this cell.\n",
    "\n",
    "## imports\n",
    "import numpy as np \n",
    "import pandas as pd\n",
    "import statsmodels.formula.api as sm\n",
    "\n",
    "## This is for making graphs\n",
    "import matplotlib.pyplot as plt\n",
    "\n",
    "## define error\n",
    "## makes 1000 normally distributed observations with mean 0 and standard deviaion 1\n",
    "epsilon = np.random.normal(0,1, 1000) \n",
    "\n",
    "## define X data\n",
    "## makes 1000 normally distributed observations with mean 3 and standard deviaion 2\n",
    "X = np.random.normal(3, 2, 1000)\n",
    "\n",
    "## Define population parameters\n",
    "beta_0 = 2\n",
    "beta_1 = .5\n",
    "\n",
    "## Define Y data\n",
    "Y = beta_0 +  beta_1*X + epsilon\n",
    "\n",
    "## Put it all in a pandas dataframe\n",
    "df = pd.DataFrame({'Y': Y,\n",
    "             'X': X})\n",
    "\n",
    "## Running regression\n",
    "\n",
    "mod = sm.ols(\"Y ~ X\", data=df)\n",
    "results = mod.fit()\n",
    "\n",
    "\n",
    "print(f\"The normalized z-score is {(results.params['X']-0.5)/results.bse['X']}\")\n",
    "\n",
    "results.summary()\n",
    "\n"
   ]
  },
  {
   "cell_type": "raw",
   "metadata": {},
   "source": [
    "\\pagebreak\n"
   ]
  },
  {
   "cell_type": "raw",
   "metadata": {},
   "source": [
    "\\pagebreak\n"
   ]
  },
  {
   "cell_type": "markdown",
   "metadata": {},
   "source": [
    "d. Now let's get a sample of this and data and run our regression on it. To do this, use the `sample` method on the `df` dataframe:\n",
    "\n",
    "```python\n",
    "df.sample(n=<number>, replace=True)\n",
    "```\n",
    "\n",
    "We set `replace=True`, so that we can sample observations with replacement (this is more important if we keep taking random samples).\n",
    "\n",
    "Sample 100 observations with replacement from `df` and call this `sample_df`. \n",
    "\n",
    "Run the regression of Y on X with the sample data. Run it a few times and see how it changes (you do need to need rerun the previous cells if you rerun this one a few times. That's because the initial data has already been created.)\n"
   ]
  },
  {
   "cell_type": "raw",
   "metadata": {},
   "source": [
    "\\pagebreak\n"
   ]
  },
  {
   "cell_type": "code",
   "execution_count": 145,
   "metadata": {
    "ExecuteTime": {
     "end_time": "2019-08-24T00:48:53.762312Z",
     "start_time": "2019-08-24T00:48:53.728394Z"
    }
   },
   "outputs": [
    {
     "data": {
      "text/html": [
       "<table class=\"simpletable\">\n",
       "<caption>OLS Regression Results</caption>\n",
       "<tr>\n",
       "  <th>Dep. Variable:</th>            <td>Y</td>        <th>  R-squared:         </th> <td>   0.542</td>\n",
       "</tr>\n",
       "<tr>\n",
       "  <th>Model:</th>                   <td>OLS</td>       <th>  Adj. R-squared:    </th> <td>   0.537</td>\n",
       "</tr>\n",
       "<tr>\n",
       "  <th>Method:</th>             <td>Least Squares</td>  <th>  F-statistic:       </th> <td>   115.8</td>\n",
       "</tr>\n",
       "<tr>\n",
       "  <th>Date:</th>             <td>Fri, 23 Aug 2019</td> <th>  Prob (F-statistic):</th> <td>2.74e-18</td>\n",
       "</tr>\n",
       "<tr>\n",
       "  <th>Time:</th>                 <td>17:48:53</td>     <th>  Log-Likelihood:    </th> <td> -136.39</td>\n",
       "</tr>\n",
       "<tr>\n",
       "  <th>No. Observations:</th>      <td>   100</td>      <th>  AIC:               </th> <td>   276.8</td>\n",
       "</tr>\n",
       "<tr>\n",
       "  <th>Df Residuals:</th>          <td>    98</td>      <th>  BIC:               </th> <td>   282.0</td>\n",
       "</tr>\n",
       "<tr>\n",
       "  <th>Df Model:</th>              <td>     1</td>      <th>                     </th>     <td> </td>   \n",
       "</tr>\n",
       "<tr>\n",
       "  <th>Covariance Type:</th>      <td>nonrobust</td>    <th>                     </th>     <td> </td>   \n",
       "</tr>\n",
       "</table>\n",
       "<table class=\"simpletable\">\n",
       "<tr>\n",
       "      <td></td>         <th>coef</th>     <th>std err</th>      <th>t</th>      <th>P>|t|</th>  <th>[0.025</th>    <th>0.975]</th>  \n",
       "</tr>\n",
       "<tr>\n",
       "  <th>Intercept</th> <td>    2.0240</td> <td>    0.160</td> <td>   12.663</td> <td> 0.000</td> <td>    1.707</td> <td>    2.341</td>\n",
       "</tr>\n",
       "<tr>\n",
       "  <th>X</th>         <td>    0.5187</td> <td>    0.048</td> <td>   10.760</td> <td> 0.000</td> <td>    0.423</td> <td>    0.614</td>\n",
       "</tr>\n",
       "</table>\n",
       "<table class=\"simpletable\">\n",
       "<tr>\n",
       "  <th>Omnibus:</th>       <td> 1.283</td> <th>  Durbin-Watson:     </th> <td>   2.068</td>\n",
       "</tr>\n",
       "<tr>\n",
       "  <th>Prob(Omnibus):</th> <td> 0.527</td> <th>  Jarque-Bera (JB):  </th> <td>   0.839</td>\n",
       "</tr>\n",
       "<tr>\n",
       "  <th>Skew:</th>          <td> 0.200</td> <th>  Prob(JB):          </th> <td>   0.657</td>\n",
       "</tr>\n",
       "<tr>\n",
       "  <th>Kurtosis:</th>      <td> 3.202</td> <th>  Cond. No.          </th> <td>    5.88</td>\n",
       "</tr>\n",
       "</table><br/><br/>Warnings:<br/>[1] Standard Errors assume that the covariance matrix of the errors is correctly specified."
      ],
      "text/plain": [
       "<class 'statsmodels.iolib.summary.Summary'>\n",
       "\"\"\"\n",
       "                            OLS Regression Results                            \n",
       "==============================================================================\n",
       "Dep. Variable:                      Y   R-squared:                       0.542\n",
       "Model:                            OLS   Adj. R-squared:                  0.537\n",
       "Method:                 Least Squares   F-statistic:                     115.8\n",
       "Date:                Fri, 23 Aug 2019   Prob (F-statistic):           2.74e-18\n",
       "Time:                        17:48:53   Log-Likelihood:                -136.39\n",
       "No. Observations:                 100   AIC:                             276.8\n",
       "Df Residuals:                      98   BIC:                             282.0\n",
       "Df Model:                           1                                         \n",
       "Covariance Type:            nonrobust                                         \n",
       "==============================================================================\n",
       "                 coef    std err          t      P>|t|      [0.025      0.975]\n",
       "------------------------------------------------------------------------------\n",
       "Intercept      2.0240      0.160     12.663      0.000       1.707       2.341\n",
       "X              0.5187      0.048     10.760      0.000       0.423       0.614\n",
       "==============================================================================\n",
       "Omnibus:                        1.283   Durbin-Watson:                   2.068\n",
       "Prob(Omnibus):                  0.527   Jarque-Bera (JB):                0.839\n",
       "Skew:                           0.200   Prob(JB):                        0.657\n",
       "Kurtosis:                       3.202   Cond. No.                         5.88\n",
       "==============================================================================\n",
       "\n",
       "Warnings:\n",
       "[1] Standard Errors assume that the covariance matrix of the errors is correctly specified.\n",
       "\"\"\""
      ]
     },
     "execution_count": 145,
     "metadata": {},
     "output_type": "execute_result"
    }
   ],
   "source": [
    "## Put your answer in this cell.\n",
    "\n",
    "## Taking random sample\n",
    "sample_df = df.sample(n=100, replace=True)\n",
    "\n",
    "\n",
    "## Running regression\n",
    "\n",
    "mod = sm.ols(\"Y ~ X\", data=sample_df)\n",
    "results = mod.fit()\n",
    "results.summary()\n"
   ]
  },
  {
   "cell_type": "raw",
   "metadata": {},
   "source": [
    "\\pagebreak\n"
   ]
  },
  {
   "cell_type": "markdown",
   "metadata": {},
   "source": [
    "e. Which regression has a higher standard error for $\\hat{b}_1$ Why?"
   ]
  },
  {
   "cell_type": "raw",
   "metadata": {},
   "source": [
    "\\pagebreak\n"
   ]
  },
  {
   "cell_type": "markdown",
   "metadata": {},
   "source": [
    "**Please write your answer here. If you need to use more than one line, you may do so.**\n",
    "\n",
    "The regression with the lower sample size (in this case 1,000) will have the lower standard error."
   ]
  },
  {
   "cell_type": "raw",
   "metadata": {},
   "source": [
    "\\pagebreak\n"
   ]
  },
  {
   "cell_type": "markdown",
   "metadata": {},
   "source": [
    "f. Now let's see what happens when we keep sampling. This will allow us to construct a distribution for $\\hat{b}_1$. This will involve making a loop much like in HW2.\n",
    "\n",
    "Write a loop that loops over the many regressions and stores the results in a list. Run the loop 1000 times. Call this list `b_dist`.\n",
    "\n",
    "Instead of appending a number multiplied by another as in HW2, append `results.params['X']` (I'm assuming that you're using `results= mod.fit()`).\n",
    "\n",
    "Remember to put in a sample command in the loop, so that new data can be sampled every iteration.\n",
    "\n",
    "So your loop should look like this:\n",
    "\n",
    "```python\n",
    "b_dist = []\n",
    "\n",
    "for reg in <<the range from 0 to 1000>>:\n",
    "    \n",
    "    <<sampling command>>\n",
    "    <<regression commands>>\n",
    "    <<parameter appending to b_dist>>\n",
    "```\n",
    "    \n",
    "\n",
    "After the loop, make this list into a `pandas` dataframe and call it `b_dist_df`: `b_dist_df = pd.DataFrame({'b_dist':b_dist})`\n",
    "\n",
    "**Note: It might take a while.**"
   ]
  },
  {
   "cell_type": "raw",
   "metadata": {},
   "source": [
    "\\pagebreak\n"
   ]
  },
  {
   "cell_type": "code",
   "execution_count": 146,
   "metadata": {
    "ExecuteTime": {
     "end_time": "2019-08-24T00:49:23.369240Z",
     "start_time": "2019-08-24T00:49:14.476997Z"
    }
   },
   "outputs": [],
   "source": [
    "## Put your answer in this cell.\n",
    "\n",
    "b_dist = []\n",
    "\n",
    "for reg in range(1000):\n",
    "    \n",
    "    sample_df = df.sample(n=100, replace=True)\n",
    "\n",
    "\n",
    "    mod = sm.ols(\"Y ~ X\", data=sample_df)\n",
    "    results = mod.fit()\n",
    "    b_dist.append(results.params['X'])\n",
    "\n",
    "b_dist_df = pd.DataFrame({'b_dist': b_dist})\n"
   ]
  },
  {
   "cell_type": "raw",
   "metadata": {},
   "source": [
    "\\pagebreak\n"
   ]
  },
  {
   "cell_type": "markdown",
   "metadata": {},
   "source": [
    "g.Now create a histogram of `b_dist` with:\n",
    "\n",
    "```python\n",
    "b_dist_df.hist()\n",
    "```"
   ]
  },
  {
   "cell_type": "raw",
   "metadata": {},
   "source": [
    "\\pagebreak\n"
   ]
  },
  {
   "cell_type": "code",
   "execution_count": 142,
   "metadata": {
    "ExecuteTime": {
     "end_time": "2019-08-24T00:48:26.470221Z",
     "start_time": "2019-08-24T00:48:26.238330Z"
    }
   },
   "outputs": [
    {
     "data": {
      "text/plain": [
       "array([[<matplotlib.axes._subplots.AxesSubplot object at 0x7f4322ff53d0>]],\n",
       "      dtype=object)"
      ]
     },
     "execution_count": 142,
     "metadata": {},
     "output_type": "execute_result"
    },
    {
     "data": {
      "image/png": "[encoded data removed]",
      "text/plain": [
       "<Figure size 432x288 with 1 Axes>"
      ]
     },
     "metadata": {
      "needs_background": "light"
     },
     "output_type": "display_data"
    }
   ],
   "source": [
    "%matplotlib inline \n",
    "## Do not modify the above\n",
    "\n",
    "## Put your answer in this cell.\n",
    "\n",
    "b_dist_df.hist()\n"
   ]
  },
  {
   "cell_type": "raw",
   "metadata": {},
   "source": [
    "\\pagebreak\n"
   ]
  },
  {
   "cell_type": "markdown",
   "metadata": {},
   "source": [
    "h. What is the mean of `b_dist`? "
   ]
  },
  {
   "cell_type": "code",
   "execution_count": 143,
   "metadata": {
    "ExecuteTime": {
     "end_time": "2019-08-24T00:48:26.476572Z",
     "start_time": "2019-08-24T00:48:26.472489Z"
    }
   },
   "outputs": [
    {
     "data": {
      "text/plain": [
       "0.4964843177758095"
      ]
     },
     "execution_count": 143,
     "metadata": {},
     "output_type": "execute_result"
    }
   ],
   "source": [
    "## Put your answer in this cell.\\pagebreak\n",
    "\n",
    "\n",
    "b_dist_df['b_dist'].mean()"
   ]
  },
  {
   "cell_type": "raw",
   "metadata": {},
   "source": [
    "\\pagebreak\n"
   ]
  },
  {
   "cell_type": "markdown",
   "metadata": {},
   "source": [
    "h. Plot a vertical line on the histogram, which denotes the population parameter, $\\beta_1$. To do this, you can do this:\n",
    "\n",
    "```python\n",
    "b_dist_df.hist()\n",
    "plt.axvline(<population parameter here>, color='red')\n",
    "```\n",
    "\n",
    "Does the OLS estimator seem unbiased? What would have made each estimate even closer to the population parameter? Write your answer in a print statement."
   ]
  },
  {
   "cell_type": "raw",
   "metadata": {},
   "source": [
    "\\pagebreak\n"
   ]
  },
  {
   "cell_type": "code",
   "execution_count": 144,
   "metadata": {
    "ExecuteTime": {
     "end_time": "2019-08-24T00:48:26.732206Z",
     "start_time": "2019-08-24T00:48:26.493775Z"
    }
   },
   "outputs": [
    {
     "name": "stdout",
     "output_type": "stream",
     "text": [
      "The distribution is centered, more or less, around the population parameter.To make it better, we can try increasing the sample size of each random sample.\n"
     ]
    },
    {
     "data": {
      "image/png": "[encoded data removed]",
      "text/plain": [
       "<Figure size 432x288 with 1 Axes>"
      ]
     },
     "metadata": {
      "needs_background": "light"
     },
     "output_type": "display_data"
    }
   ],
   "source": [
    "## Put your answer in this cell.\n",
    "\n",
    "b_dist_df.hist()\n",
    "plt.axvline(0.5, color='red')\n",
    "\n",
    "print(\"The distribution is centered, more or less, around the population parameter.\\\n",
    "To make it better, we can try increasing the sample size of each random sample.\")"
   ]
  }
 ],
 "metadata": {
  "hide_input": false,
  "kernelspec": {
   "display_name": "Python 3",
   "language": "python",
   "name": "python3"
  },
  "language_info": {
   "codemirror_mode": {
    "name": "ipython",
    "version": 3
   },
   "file_extension": ".py",
   "mimetype": "text/x-python",
   "name": "python",
   "nbconvert_exporter": "python",
   "pygments_lexer": "ipython3",
   "version": "3.7.4"
  },
  "latex_envs": {
   "LaTeX_envs_menu_present": true,
   "autoclose": false,
   "autocomplete": true,
   "bibliofile": "biblio.bib",
   "cite_by": "apalike",
   "current_citInitial": 1,
   "eqLabelWithNumbers": true,
   "eqNumInitial": 1,
   "hotkeys": {
    "equation": "Ctrl-E",
    "itemize": "Ctrl-I"
   },
   "labels_anchors": false,
   "latex_user_defs": false,
   "report_style_numbering": false,
   "user_envs_cfg": false
  },
  "nbTranslate": {
   "displayLangs": [
    "*"
   ],
   "hotkey": "alt-t",
   "langInMainMenu": true,
   "sourceLang": "en",
   "targetLang": "fr",
   "useGoogleTranslate": true
  },
  "varInspector": {
   "cols": {
    "lenName": 16,
    "lenType": 16,
    "lenVar": 40
   },
   "kernels_config": {
    "python": {
     "delete_cmd_postfix": "",
     "delete_cmd_prefix": "del ",
     "library": "var_list.py",
     "varRefreshCmd": "print(var_dic_list())"
    },
    "r": {
     "delete_cmd_postfix": ") ",
     "delete_cmd_prefix": "rm(",
     "library": "var_list.r",
     "varRefreshCmd": "cat(var_dic_list()) "
    }
   },
   "types_to_exclude": [
    "module",
    "function",
    "builtin_function_or_method",
    "instance",
    "_Feature"
   ],
   "window_display": false
  }
 },
 "nbformat": 4,
 "nbformat_minor": 2
}
