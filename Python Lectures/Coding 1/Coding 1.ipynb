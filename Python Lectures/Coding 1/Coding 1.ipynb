{
 "cells": [
  {
   "cell_type": "markdown",
   "metadata": {
    "slideshow": {
     "slide_type": "slide"
    }
   },
   "source": [
    "# Python and Jupyter Notebooks"
   ]
  },
  {
   "cell_type": "markdown",
   "metadata": {
    "slideshow": {
     "slide_type": "slide"
    }
   },
   "source": [
    "Python is multi-purpose computer language that can be used for statistical analysis, machine learning, visualization, and mathematical programming.\n",
    "\n",
    "Our job today is to go from:\n",
    "\n",
    "![Ruff](https://i.kym-cdn.com/entries/icons/original/000/008/342/ihave.jpg)\n",
    "\n",
    "\n"
   ]
  },
  {
   "cell_type": "markdown",
   "metadata": {
    "slideshow": {
     "slide_type": "slide"
    }
   },
   "source": [
    "To this:\n",
    "\n",
    "![Oh yeah!](http://orig05.deviantart.net/51a3/f/2016/306/0/9/hackerman_by_shiiftyshift-dan31sc.png)"
   ]
  },
  {
   "cell_type": "markdown",
   "metadata": {
    "slideshow": {
     "slide_type": "slide"
    }
   },
   "source": [
    "**Note**: I will take you through some of the basics and Bret will help you cement that understanding. Feel free to email us if you have a question, but please be aware that if you have a certain problem, odds are that problem has already been solved or it's in the help file of whatever we're using.\n",
    "\n",
    "Also, odds are, the question you have will 99% of the time be answered on stackoverflow. \n",
    "\n",
    "Also, don't panic if you need to check the help files all the time to get the syntax of a command. That's what the internet is for. If you need to check to make sure syntax is correct, that's called being thorough not a failure."
   ]
  },
  {
   "cell_type": "markdown",
   "metadata": {
    "ExecuteTime": {
     "end_time": "2019-07-12T23:48:12.550649Z",
     "start_time": "2019-07-12T23:48:12.542858Z"
    },
    "slideshow": {
     "slide_type": "slide"
    }
   },
   "source": [
    "By now you should have all installed the Anaconda Distribution which gives you access to:\n",
    "\n",
    "- A python interpreter\n",
    "- A package management system\n",
    "- Jupyter Notebooks\n"
   ]
  },
  {
   "cell_type": "markdown",
   "metadata": {
    "slideshow": {
     "slide_type": "slide"
    }
   },
   "source": [
    "## What is an interpreter?\n",
    "\n",
    "An interpreter is an environment/program that handles taking the syntax of a programming language and understands it.\n",
    "\n",
    "Anaconda installed a *python interpreter*.\n",
    "\n",
    "In order to make things easier for you, there are also programs that use the interpreter and have other nice features so you can code efficiently (Jupyter)."
   ]
  },
  {
   "cell_type": "markdown",
   "metadata": {
    "slideshow": {
     "slide_type": "slide"
    }
   },
   "source": [
    "## Using Anaconda Navigator"
   ]
  },
  {
   "cell_type": "markdown",
   "metadata": {
    "slideshow": {
     "slide_type": "slide"
    }
   },
   "source": [
    "- Anaconda Navigator provides an easy way to open up cool things for data science (like Jupyter Notebooks) as well as package management.\n",
    "\n",
    "- From installation, all packaages that we'll need will already be installed and it will be a click away\n",
    "- Click on Jupyter Lab or Jupyter Notebook and a tab should open up in your browser\n",
    "    - Both can be used for the course\n",
    "    - Jupyter notebook has been the standard for many years now for data visualization with Python (as well as many other languages)\n",
    "    - Jupyter Lab is a new and improved Notebook system, but either one can be used\n",
    "- That's it! You're ready!"
   ]
  },
  {
   "cell_type": "markdown",
   "metadata": {
    "slideshow": {
     "slide_type": "slide"
    }
   },
   "source": [
    "![](https://docs.anaconda.com/_images/navigator-environments-1-6.png)"
   ]
  },
  {
   "cell_type": "markdown",
   "metadata": {
    "slideshow": {
     "slide_type": "slide"
    }
   },
   "source": [
    "## Why Jupyter?"
   ]
  },
  {
   "cell_type": "markdown",
   "metadata": {
    "slideshow": {
     "slide_type": "-"
    }
   },
   "source": [
    "- Jupyter is probably the easiest way to get into python\n",
    "- It allows you to write your code and your analysis/explanation in one place\n",
    "    - No more writing a word document, exporting/copy-pasting from output \n",
    "        - What happens if you need to rerun something?\n",
    "            - Jupyter has it all there\n",
    "            - Don't work hard, work smart\n",
    "    - Great for sharing or presenting\n",
    "- Export your results and analysis with a click of a button\n",
    "- This presentation was done in a Jupyter Notebook!\n"
   ]
  },
  {
   "cell_type": "markdown",
   "metadata": {
    "slideshow": {
     "slide_type": "slide"
    }
   },
   "source": [
    "- Jupyter is made up of code cells and markdown cells\n",
    "    - Each code cell can be used to write some code and all code cells are using the same interpreter\n",
    "        - writing code in one cell transfers to the next\n",
    "       "
   ]
  },
  {
   "cell_type": "markdown",
   "metadata": {
    "slideshow": {
     "slide_type": "slide"
    }
   },
   "source": [
    "## Markdown Quick"
   ]
  },
  {
   "cell_type": "markdown",
   "metadata": {
    "slideshow": {
     "slide_type": "-"
    }
   },
   "source": [
    "- The writing part of Jupyter uses a writing format (markup language) called Markdown\n",
    "- It's easy to learn and all you need is a cheatsheet to get up and running"
   ]
  },
  {
   "cell_type": "markdown",
   "metadata": {
    "slideshow": {
     "slide_type": "slide"
    }
   },
   "source": [
    "- Headings\n",
    "\n",
    "\\# Title\n",
    "\n",
    "\\## Heading 1\n",
    "\n",
    "\\### Heading 2\n",
    "\n",
    "\\*italic* *italic*\n",
    "\n",
    "\\*\\*bold** **bold**\n",
    "\n",
    "\\*\\*\\*bold italic*\\**  ***italic bold***\n",
    "\n",
    "- List 1\n",
    "    - List 2\n",
    "    \n",
    "\\- List 1\n",
    "\n",
    "    - List 2\n",
    "    \n"
   ]
  },
  {
   "cell_type": "markdown",
   "metadata": {
    "slideshow": {
     "slide_type": "slide"
    }
   },
   "source": [
    "\\``` writing code ```\n",
    "\n",
    "```writing code```\n",
    "\n",
    "Math: \\\\$\\beta\\$\n",
    "\n",
    "$\\beta$\n",
    "\n",
    "\n",
    "\\\\$\\\\$\n",
    "y = \\beta X +u\n",
    "\\\\$\\\\$\n",
    "\n",
    "$$\n",
    "y = \\beta X + u\n",
    "$$"
   ]
  },
  {
   "cell_type": "markdown",
   "metadata": {
    "slideshow": {
     "slide_type": "slide"
    }
   },
   "source": [
    "## Python as a Language"
   ]
  },
  {
   "cell_type": "markdown",
   "metadata": {
    "slideshow": {
     "slide_type": "-"
    }
   },
   "source": [
    "- Python is a multipurpose language\n",
    "- \n",
    "- Python can be:\n",
    "    - Used for data science/econometrics/statistics\n",
    "        - handles data efficiently and sanely (I'm looking at you Stata)\n",
    "        - Many packages for running regressions/doing analysis/summary statistics\n",
    "        - Can play nice with other data oriented languages like Stata or R\n",
    "        - parallelization\n",
    "        - VISUALIZING DATA\n",
    "  "
   ]
  },
  {
   "cell_type": "markdown",
   "metadata": {
    "slideshow": {
     "slide_type": "slide"
    }
   },
   "source": [
    "- The purpose of teaching you python:\n",
    "    - It will teach you basic programming concepts that you can take to other languages\n",
    "    - It's relatively easy in terms of syntax (almost pseudo-code)\n",
    "    - Many industries and academia are using it\n",
    "    - It's a nice thing to put on your resume\n",
    "    - All the cool kids are doing (statisticians, computer scientists, plant scientists, bio-statisticians)\n"
   ]
  },
  {
   "cell_type": "markdown",
   "metadata": {
    "slideshow": {
     "slide_type": "slide"
    }
   },
   "source": [
    "- What I expect you to be able to do with Python by the end of the course\n",
    "    - the basics of doing some math\n",
    "    - running a regression\n",
    "    - getting some output\n",
    "    - making a graph of some data\n",
    "    - running a for loop\n",
    "    - writing a super easy function\n",
    "    - Being able to write down your logic to solving a data problem\n",
    "    - COMMENTING YOUR CODE\n",
    "- What I don't expect:\n",
    "    - Memorizing python syntax\n",
    "    - Hacking in UC Davis\n"
   ]
  },
  {
   "cell_type": "markdown",
   "metadata": {
    "slideshow": {
     "slide_type": "slide"
    }
   },
   "source": [
    "## The Basics of Python"
   ]
  },
  {
   "cell_type": "markdown",
   "metadata": {
    "slideshow": {
     "slide_type": "slide"
    }
   },
   "source": [
    "### The print statement\n"
   ]
  },
  {
   "cell_type": "markdown",
   "metadata": {
    "slideshow": {
     "slide_type": "slide"
    }
   },
   "source": [
    "The first thing we should do is print something so we can see it!"
   ]
  },
  {
   "cell_type": "code",
   "execution_count": 55,
   "metadata": {
    "ExecuteTime": {
     "end_time": "2019-08-04T04:44:11.271235Z",
     "start_time": "2019-08-04T04:44:11.263143Z"
    },
    "slideshow": {
     "slide_type": "slide"
    }
   },
   "outputs": [
    {
     "name": "stdout",
     "output_type": "stream",
     "text": [
      "Hello World\n"
     ]
    }
   ],
   "source": [
    "print('Hello World')"
   ]
  },
  {
   "cell_type": "markdown",
   "metadata": {
    "slideshow": {
     "slide_type": "slide"
    }
   },
   "source": [
    "### Basic Math"
   ]
  },
  {
   "cell_type": "markdown",
   "metadata": {
    "slideshow": {
     "slide_type": "slide"
    }
   },
   "source": [
    "- Writing math in the a code cell gives you output! \n",
    "- In Jupyter, only the last line gets shown"
   ]
  },
  {
   "cell_type": "code",
   "execution_count": 3,
   "metadata": {
    "ExecuteTime": {
     "end_time": "2019-08-04T03:39:08.119345Z",
     "start_time": "2019-08-04T03:39:08.108747Z"
    },
    "slideshow": {
     "slide_type": "slide"
    }
   },
   "outputs": [
    {
     "data": {
      "text/plain": [
       "-1"
      ]
     },
     "execution_count": 3,
     "metadata": {},
     "output_type": "execute_result"
    }
   ],
   "source": [
    "3+3\n",
    "3-4"
   ]
  },
  {
   "cell_type": "markdown",
   "metadata": {
    "slideshow": {
     "slide_type": "slide"
    }
   },
   "source": [
    "### Strings"
   ]
  },
  {
   "cell_type": "markdown",
   "metadata": {
    "slideshow": {
     "slide_type": "slide"
    }
   },
   "source": [
    "- Strings are everything that's not a number\n",
    "- Needs to be in double or single parantheses"
   ]
  },
  {
   "cell_type": "code",
   "execution_count": 5,
   "metadata": {
    "ExecuteTime": {
     "end_time": "2019-08-04T03:40:38.868704Z",
     "start_time": "2019-08-04T03:40:38.858524Z"
    },
    "slideshow": {
     "slide_type": "slide"
    }
   },
   "outputs": [
    {
     "data": {
      "text/plain": [
       "'hello World'"
      ]
     },
     "execution_count": 5,
     "metadata": {},
     "output_type": "execute_result"
    }
   ],
   "source": [
    "\"hello World\""
   ]
  },
  {
   "cell_type": "markdown",
   "metadata": {
    "slideshow": {
     "slide_type": "slide"
    }
   },
   "source": [
    "### Python Types"
   ]
  },
  {
   "cell_type": "markdown",
   "metadata": {
    "slideshow": {
     "slide_type": "slide"
    }
   },
   "source": [
    "- Python, for the most part has four main \"types\"\n",
    "    - A type is a thing that the interpreter understands\n",
    "- Types\n",
    "    - int\n",
    "    - float\n",
    "    - bool\n",
    "    - string\n",
    "- int - integer (anything that doesn't have a decimal)\n",
    "- float - anything that does have a decimal\n",
    "- bool - `True` or `False` (important for later)\n",
    "- string - stuff in quotation marks\n",
    "    "
   ]
  },
  {
   "cell_type": "markdown",
   "metadata": {
    "slideshow": {
     "slide_type": "slide"
    }
   },
   "source": [
    "### Defining a variable"
   ]
  },
  {
   "cell_type": "markdown",
   "metadata": {
    "slideshow": {
     "slide_type": "-"
    }
   },
   "source": [
    "- For most of what we'll be doing, we'll be taking in data or doing math operations on data, and we will need a way to tell Python to do it to all the data at once.\n",
    "- Variables come in now\n",
    "- Same as in math\n",
    "- define some variable x and assign it a value"
   ]
  },
  {
   "cell_type": "code",
   "execution_count": 7,
   "metadata": {
    "ExecuteTime": {
     "end_time": "2019-08-04T03:42:05.767619Z",
     "start_time": "2019-08-04T03:42:05.754547Z"
    },
    "slideshow": {
     "slide_type": "slide"
    }
   },
   "outputs": [
    {
     "name": "stdout",
     "output_type": "stream",
     "text": [
      "3\n"
     ]
    }
   ],
   "source": [
    "x = 3\n",
    "print(x)"
   ]
  },
  {
   "cell_type": "markdown",
   "metadata": {
    "slideshow": {
     "slide_type": "slide"
    }
   },
   "source": [
    "- We can also assign strings to variables."
   ]
  },
  {
   "cell_type": "code",
   "execution_count": 8,
   "metadata": {
    "ExecuteTime": {
     "end_time": "2019-08-04T03:42:44.554322Z",
     "start_time": "2019-08-04T03:42:44.541963Z"
    },
    "slideshow": {
     "slide_type": "slide"
    }
   },
   "outputs": [
    {
     "name": "stdout",
     "output_type": "stream",
     "text": [
      "Hello World\n"
     ]
    }
   ],
   "source": [
    "string = \"Hello World\"\n",
    "\n",
    "print(string)"
   ]
  },
  {
   "cell_type": "markdown",
   "metadata": {
    "slideshow": {
     "slide_type": "slide"
    }
   },
   "source": [
    "- We can also print a statement with a variable so that it gives us a nice message\n",
    "    - the f-string"
   ]
  },
  {
   "cell_type": "code",
   "execution_count": 11,
   "metadata": {
    "ExecuteTime": {
     "end_time": "2019-08-04T03:44:11.095179Z",
     "start_time": "2019-08-04T03:44:11.084918Z"
    },
    "slideshow": {
     "slide_type": "-"
    }
   },
   "outputs": [
    {
     "name": "stdout",
     "output_type": "stream",
     "text": [
      "I am 3 years old\n",
      "I am {x} years old\n"
     ]
    }
   ],
   "source": [
    "print(f\"I am {x} years old\")\n",
    "print(\"I am {x} years old\")"
   ]
  },
  {
   "cell_type": "markdown",
   "metadata": {
    "slideshow": {
     "slide_type": "slide"
    }
   },
   "source": [
    "Fun Fact: The addition operator is \"overloaded\" in Python, meaning that you can \"add\" strings together"
   ]
  },
  {
   "cell_type": "code",
   "execution_count": 12,
   "metadata": {
    "ExecuteTime": {
     "end_time": "2019-08-04T03:45:44.393694Z",
     "start_time": "2019-08-04T03:45:44.382586Z"
    },
    "slideshow": {
     "slide_type": "-"
    }
   },
   "outputs": [
    {
     "data": {
      "text/plain": [
       "'first stringsecond string'"
      ]
     },
     "execution_count": 12,
     "metadata": {},
     "output_type": "execute_result"
    }
   ],
   "source": [
    "\"first string\" + \"second string\""
   ]
  },
  {
   "cell_type": "markdown",
   "metadata": {
    "slideshow": {
     "slide_type": "slide"
    }
   },
   "source": [
    "### Containers (Lists, Tuples and Dictionaries)"
   ]
  },
  {
   "cell_type": "markdown",
   "metadata": {
    "slideshow": {
     "slide_type": "-"
    }
   },
   "source": [
    "- This is a little bit more advanced\n",
    "- But this is super important\n",
    "    - This will be very related to next week's lecture on data and regression"
   ]
  },
  {
   "cell_type": "markdown",
   "metadata": {
    "slideshow": {
     "slide_type": "slide"
    }
   },
   "source": [
    "### Lists"
   ]
  },
  {
   "cell_type": "markdown",
   "metadata": {
    "slideshow": {
     "slide_type": "-"
    }
   },
   "source": [
    "- Lists can be collections of objects (numbers, strings) that you can put together\n",
    "- We can refer to an object in a list by using \"slicing notation\""
   ]
  },
  {
   "cell_type": "code",
   "execution_count": 56,
   "metadata": {
    "ExecuteTime": {
     "end_time": "2019-08-04T04:45:19.222270Z",
     "start_time": "2019-08-04T04:45:19.211110Z"
    },
    "slideshow": {
     "slide_type": "slide"
    }
   },
   "outputs": [
    {
     "name": "stdout",
     "output_type": "stream",
     "text": [
      "1\n",
      "[2, 'string']\n"
     ]
    }
   ],
   "source": [
    "y = [1,2,'string']\n",
    "\n",
    "print(y[0])\n",
    "\n",
    "print(y[1:])\n",
    "\n",
    "\n"
   ]
  },
  {
   "cell_type": "markdown",
   "metadata": {
    "slideshow": {
     "slide_type": "slide"
    }
   },
   "source": [
    "- We can also do thing like `append` and `extend` to a list"
   ]
  },
  {
   "cell_type": "code",
   "execution_count": 57,
   "metadata": {
    "ExecuteTime": {
     "end_time": "2019-08-04T04:45:21.535021Z",
     "start_time": "2019-08-04T04:45:21.524395Z"
    },
    "slideshow": {
     "slide_type": "-"
    }
   },
   "outputs": [
    {
     "data": {
      "text/plain": [
       "[1, 2, 'string', 2]"
      ]
     },
     "execution_count": 57,
     "metadata": {},
     "output_type": "execute_result"
    }
   ],
   "source": [
    "y.append(2)\n",
    "y"
   ]
  },
  {
   "cell_type": "code",
   "execution_count": 58,
   "metadata": {
    "ExecuteTime": {
     "end_time": "2019-08-04T04:45:23.748587Z",
     "start_time": "2019-08-04T04:45:23.730292Z"
    },
    "slideshow": {
     "slide_type": "slide"
    }
   },
   "outputs": [
    {
     "data": {
      "text/plain": [
       "[1, 2, 'string', 2, [5, 6]]"
      ]
     },
     "execution_count": 58,
     "metadata": {},
     "output_type": "execute_result"
    }
   ],
   "source": [
    "y.append([5,6])\n",
    "y"
   ]
  },
  {
   "cell_type": "code",
   "execution_count": 59,
   "metadata": {
    "ExecuteTime": {
     "end_time": "2019-08-04T04:45:26.051849Z",
     "start_time": "2019-08-04T04:45:26.040279Z"
    },
    "slideshow": {
     "slide_type": "slide"
    }
   },
   "outputs": [
    {
     "data": {
      "text/plain": [
       "[1, 2, 'string', 2, [5, 6], 4, 5]"
      ]
     },
     "execution_count": 59,
     "metadata": {},
     "output_type": "execute_result"
    }
   ],
   "source": [
    "y.extend([4,5])\n",
    "y"
   ]
  },
  {
   "cell_type": "code",
   "execution_count": 23,
   "metadata": {
    "ExecuteTime": {
     "end_time": "2019-08-04T04:02:02.397481Z",
     "start_time": "2019-08-04T04:02:02.385614Z"
    },
    "slideshow": {
     "slide_type": "slide"
    }
   },
   "outputs": [
    {
     "data": {
      "text/plain": [
       "[4, 5, 1, 2]"
      ]
     },
     "execution_count": 23,
     "metadata": {},
     "output_type": "execute_result"
    }
   ],
   "source": [
    "[4,5] + [1,2]"
   ]
  },
  {
   "cell_type": "code",
   "execution_count": 60,
   "metadata": {
    "ExecuteTime": {
     "end_time": "2019-08-04T04:45:47.712648Z",
     "start_time": "2019-08-04T04:45:47.701597Z"
    },
    "slideshow": {
     "slide_type": "slide"
    }
   },
   "outputs": [
    {
     "data": {
      "text/plain": [
       "7"
      ]
     },
     "execution_count": 60,
     "metadata": {},
     "output_type": "execute_result"
    }
   ],
   "source": [
    "len(y)"
   ]
  },
  {
   "cell_type": "markdown",
   "metadata": {
    "slideshow": {
     "slide_type": "slide"
    }
   },
   "source": [
    "- Note: These operations are \"inplace\"\n",
    "    - That means the list itself is changed!\n",
    "    - Continuously running the program will lead to it getting changed\n",
    "    - Lists are MUTABLE"
   ]
  },
  {
   "cell_type": "markdown",
   "metadata": {
    "slideshow": {
     "slide_type": "slide"
    }
   },
   "source": [
    "- An example of an immutable list is a tuple\n",
    "- Once it's created, the underlying tuple can't be changed"
   ]
  },
  {
   "cell_type": "code",
   "execution_count": 63,
   "metadata": {
    "ExecuteTime": {
     "end_time": "2019-08-04T04:46:23.439030Z",
     "start_time": "2019-08-04T04:46:23.427997Z"
    },
    "slideshow": {
     "slide_type": "slide"
    }
   },
   "outputs": [
    {
     "data": {
      "text/plain": [
       "1"
      ]
     },
     "execution_count": 63,
     "metadata": {},
     "output_type": "execute_result"
    }
   ],
   "source": [
    "x = (1,2,'string')\n",
    "\n",
    "x[0]"
   ]
  },
  {
   "cell_type": "code",
   "execution_count": 64,
   "metadata": {
    "ExecuteTime": {
     "end_time": "2019-08-04T04:46:26.587703Z",
     "start_time": "2019-08-04T04:46:26.576693Z"
    },
    "slideshow": {
     "slide_type": "slide"
    }
   },
   "outputs": [
    {
     "data": {
      "text/plain": [
       "(1, 2, 'string', 1, 2, 'string')"
      ]
     },
     "execution_count": 64,
     "metadata": {},
     "output_type": "execute_result"
    }
   ],
   "source": [
    "x + x\n"
   ]
  },
  {
   "cell_type": "code",
   "execution_count": 29,
   "metadata": {
    "ExecuteTime": {
     "end_time": "2019-08-04T04:03:30.630439Z",
     "start_time": "2019-08-04T04:03:30.613728Z"
    },
    "slideshow": {
     "slide_type": "slide"
    }
   },
   "outputs": [
    {
     "name": "stdout",
     "output_type": "stream",
     "text": [
      "1\n",
      "2\n",
      "string\n"
     ]
    }
   ],
   "source": [
    "a,b,c = x\n",
    "\n",
    "print(a)\n",
    "print(b)\n",
    "print(c)"
   ]
  },
  {
   "cell_type": "markdown",
   "metadata": {
    "slideshow": {
     "slide_type": "slide"
    }
   },
   "source": [
    "### Dictionaries"
   ]
  },
  {
   "cell_type": "markdown",
   "metadata": {
    "slideshow": {
     "slide_type": "-"
    }
   },
   "source": [
    "- Dictionaries are analogous to how you would thing of data\n",
    "    - Income maps onto a big column or data\n",
    "- Dictionaries have a `key` (income) and `values` (the data)"
   ]
  },
  {
   "cell_type": "code",
   "execution_count": 33,
   "metadata": {
    "ExecuteTime": {
     "end_time": "2019-08-04T04:05:57.156974Z",
     "start_time": "2019-08-04T04:05:57.144470Z"
    },
    "slideshow": {
     "slide_type": "slide"
    }
   },
   "outputs": [
    {
     "data": {
      "text/plain": [
       "[1, 2, 3]"
      ]
     },
     "execution_count": 33,
     "metadata": {},
     "output_type": "execute_result"
    }
   ],
   "source": [
    "my_dictionary = {\n",
    "    'income' : [1,2,3],\n",
    "    'other stuff' : 1,\n",
    "    'and more stuff' : 'a string'\n",
    "}\n",
    "\n",
    "my_dictionary['income']"
   ]
  },
  {
   "cell_type": "markdown",
   "metadata": {
    "slideshow": {
     "slide_type": "slide"
    }
   },
   "source": [
    "- This is basically like you would think of a \"dictionary\" that you would read:\n",
    "    - The letter \"A\" applies to all words that start with A, \"B\" with B so on...\n"
   ]
  },
  {
   "cell_type": "code",
   "execution_count": 34,
   "metadata": {
    "ExecuteTime": {
     "end_time": "2019-08-04T04:07:31.385010Z",
     "start_time": "2019-08-04T04:07:31.373866Z"
    },
    "slideshow": {
     "slide_type": "slide"
    }
   },
   "outputs": [
    {
     "data": {
      "text/plain": [
       "dict_keys(['income', 'other stuff', 'and more stuff'])"
      ]
     },
     "execution_count": 34,
     "metadata": {},
     "output_type": "execute_result"
    }
   ],
   "source": [
    "my_dictionary.keys()"
   ]
  },
  {
   "cell_type": "code",
   "execution_count": 36,
   "metadata": {
    "ExecuteTime": {
     "end_time": "2019-08-04T04:09:10.125535Z",
     "start_time": "2019-08-04T04:09:10.109188Z"
    },
    "slideshow": {
     "slide_type": "slide"
    }
   },
   "outputs": [
    {
     "data": {
      "text/plain": [
       "dict_values([[1, 2, 3], 1, 'a string'])"
      ]
     },
     "execution_count": 36,
     "metadata": {},
     "output_type": "execute_result"
    }
   ],
   "source": [
    "my_dictionary.values()"
   ]
  },
  {
   "cell_type": "code",
   "execution_count": 40,
   "metadata": {
    "ExecuteTime": {
     "end_time": "2019-08-04T04:09:44.543777Z",
     "start_time": "2019-08-04T04:09:44.531672Z"
    },
    "slideshow": {
     "slide_type": "slide"
    }
   },
   "outputs": [
    {
     "data": {
      "text/plain": [
       "'a string'"
      ]
     },
     "execution_count": 40,
     "metadata": {},
     "output_type": "execute_result"
    }
   ],
   "source": [
    "list(my_dictionary.values())[2]"
   ]
  },
  {
   "cell_type": "markdown",
   "metadata": {
    "slideshow": {
     "slide_type": "slide"
    }
   },
   "source": [
    "### The Range function"
   ]
  },
  {
   "cell_type": "markdown",
   "metadata": {
    "slideshow": {
     "slide_type": "-"
    }
   },
   "source": [
    "Fun Fact: one really useful function, but which is not any of the ones we talked about above is the `range` function\n",
    "\n",
    "It's really good for loops"
   ]
  },
  {
   "cell_type": "markdown",
   "metadata": {
    "slideshow": {
     "slide_type": "slide"
    }
   },
   "source": [
    "### Loops"
   ]
  },
  {
   "cell_type": "markdown",
   "metadata": {
    "slideshow": {
     "slide_type": "-"
    }
   },
   "source": [
    "-  Loops are a great way to go through list and things to and do multiple things to multiple things\n",
    "- When working with data, that's going to be useful, to say the least.\n",
    "- We're going to focus on `for` loops."
   ]
  },
  {
   "cell_type": "markdown",
   "metadata": {
    "slideshow": {
     "slide_type": "slide"
    }
   },
   "source": [
    "-  Setup:\n",
    "    - Let's say we have a list of numbers, and we want to go through each of them and see what they are\n",
    "    - What can we use?\n",
    "    "
   ]
  },
  {
   "cell_type": "code",
   "execution_count": 43,
   "metadata": {
    "ExecuteTime": {
     "end_time": "2019-08-04T04:15:17.508451Z",
     "start_time": "2019-08-04T04:15:17.496745Z"
    },
    "slideshow": {
     "slide_type": "-"
    }
   },
   "outputs": [
    {
     "name": "stdout",
     "output_type": "stream",
     "text": [
      "1\n",
      "2\n",
      "3\n",
      "4\n",
      "6\n",
      "8\n"
     ]
    }
   ],
   "source": [
    "looper = [1,2,3,4,6,8]\n",
    "\n",
    "for thing in looper:\n",
    "    print(thing)"
   ]
  },
  {
   "cell_type": "markdown",
   "metadata": {
    "slideshow": {
     "slide_type": "slide"
    }
   },
   "source": [
    "- The loop basically tells python this:\n",
    "    - Here's this list, and for the purposes of our discussion together, I want you to consider each part of this list and call it `thing`. As many times as there are `thing`s in this list, do something for me, like print out what the `thing` is."
   ]
  },
  {
   "cell_type": "markdown",
   "metadata": {
    "slideshow": {
     "slide_type": "slide"
    }
   },
   "source": [
    "- What if we wanted to make a list out of a loop?\n",
    "    - We have to start by telling python, \"this here is the list that I want you to add to\"\n",
    "    - Then, do some stuff in the loop (like let's say add 1 to a variable)\n",
    "    - and `append` it to the list.\n",
    "    - The only thing left is to tell it how many times we want python to do it\n",
    "        - Enter the range function from before\n",
    "    "
   ]
  },
  {
   "cell_type": "code",
   "execution_count": 44,
   "metadata": {
    "ExecuteTime": {
     "end_time": "2019-08-04T04:20:00.345722Z",
     "start_time": "2019-08-04T04:20:00.322066Z"
    },
    "slideshow": {
     "slide_type": "slide"
    }
   },
   "outputs": [
    {
     "data": {
      "text/plain": [
       "[2, 3, 4, 5, 6, 7, 8, 9, 10, 11]"
      ]
     },
     "execution_count": 44,
     "metadata": {},
     "output_type": "execute_result"
    }
   ],
   "source": [
    "list_to_work_with = []\n",
    "\n",
    "variable = 1\n",
    "\n",
    "for thing in range(10):\n",
    "    \n",
    "    variable = variable + 1\n",
    "    list_to_work_with.append(variable)\n",
    "\n",
    "list_to_work_with"
   ]
  },
  {
   "cell_type": "markdown",
   "metadata": {
    "slideshow": {
     "slide_type": "slide"
    }
   },
   "source": [
    "### IF Statement"
   ]
  },
  {
   "cell_type": "markdown",
   "metadata": {
    "slideshow": {
     "slide_type": "-"
    }
   },
   "source": [
    "- This is where `bool` type comes in\n",
    "- an If Statement lets you break up code based on whether something is `True` or `False`\n"
   ]
  },
  {
   "cell_type": "code",
   "execution_count": 46,
   "metadata": {
    "ExecuteTime": {
     "end_time": "2019-08-04T04:22:17.627213Z",
     "start_time": "2019-08-04T04:22:17.615698Z"
    },
    "slideshow": {
     "slide_type": "slide"
    }
   },
   "outputs": [
    {
     "data": {
      "text/plain": [
       "False"
      ]
     },
     "execution_count": 46,
     "metadata": {},
     "output_type": "execute_result"
    }
   ],
   "source": [
    "x=0\n",
    "x==1"
   ]
  },
  {
   "cell_type": "code",
   "execution_count": 48,
   "metadata": {
    "ExecuteTime": {
     "end_time": "2019-08-04T04:22:44.853741Z",
     "start_time": "2019-08-04T04:22:44.840582Z"
    },
    "slideshow": {
     "slide_type": "slide"
    }
   },
   "outputs": [
    {
     "name": "stdout",
     "output_type": "stream",
     "text": [
      "wow\n"
     ]
    }
   ],
   "source": [
    "if x==0:\n",
    "    print(\"wow\")\n",
    "else:\n",
    "    print(\"still wow, but not as wow\")"
   ]
  },
  {
   "cell_type": "markdown",
   "metadata": {
    "slideshow": {
     "slide_type": "slide"
    }
   },
   "source": [
    "- This is really useful in the context of loops.\n",
    "- Let's say we want to print a number from a list, but only if it's not like those ugly odd numbers."
   ]
  },
  {
   "cell_type": "code",
   "execution_count": 51,
   "metadata": {
    "ExecuteTime": {
     "end_time": "2019-08-04T04:25:46.886956Z",
     "start_time": "2019-08-04T04:25:46.868478Z"
    },
    "slideshow": {
     "slide_type": "-"
    }
   },
   "outputs": [
    {
     "name": "stdout",
     "output_type": "stream",
     "text": [
      "0\n",
      "ew that was an odd number\n",
      "2\n",
      "ew that was an odd number\n",
      "4\n",
      "ew that was an odd number\n",
      "6\n",
      "ew that was an odd number\n",
      "8\n",
      "ew that was an odd number\n"
     ]
    }
   ],
   "source": [
    "for thing in range(10):\n",
    "    \n",
    "    if thing%2==0:\n",
    "        print(thing)\n",
    "    else:\n",
    "        print(\"ew that was an odd number\")\n"
   ]
  },
  {
   "cell_type": "markdown",
   "metadata": {
    "slideshow": {
     "slide_type": "-"
    }
   },
   "source": [
    "Actually we can tell python to just not do anything if it encounters the `else` eventuality."
   ]
  },
  {
   "cell_type": "code",
   "execution_count": 52,
   "metadata": {
    "ExecuteTime": {
     "end_time": "2019-08-04T04:26:26.182266Z",
     "start_time": "2019-08-04T04:26:26.171132Z"
    },
    "slideshow": {
     "slide_type": "slide"
    }
   },
   "outputs": [
    {
     "name": "stdout",
     "output_type": "stream",
     "text": [
      "0\n",
      "2\n",
      "4\n",
      "6\n",
      "8\n"
     ]
    }
   ],
   "source": [
    "for thing in range(10):\n",
    "    \n",
    "    if thing%2==0:\n",
    "        print(thing)\n",
    "    else:\n",
    "        continue"
   ]
  },
  {
   "cell_type": "markdown",
   "metadata": {
    "slideshow": {
     "slide_type": "slide"
    }
   },
   "source": [
    "### Functions"
   ]
  },
  {
   "cell_type": "markdown",
   "metadata": {
    "slideshow": {
     "slide_type": "-"
    }
   },
   "source": [
    "- A super important thing that will be useful for us when we work with data, is the idea of functions.\n",
    "- Function are mini-programs that take in some input and shoots something out for us\n",
    "    - So similar to a function in math, $f(x)$"
   ]
  },
  {
   "cell_type": "code",
   "execution_count": 53,
   "metadata": {
    "ExecuteTime": {
     "end_time": "2019-08-04T04:31:26.041663Z",
     "start_time": "2019-08-04T04:31:26.027911Z"
    },
    "slideshow": {
     "slide_type": "slide"
    }
   },
   "outputs": [
    {
     "data": {
      "text/plain": [
       "3"
      ]
     },
     "execution_count": 53,
     "metadata": {},
     "output_type": "execute_result"
    }
   ],
   "source": [
    "def f(x):\n",
    "    y = x+1\n",
    "    return y\n",
    "\n",
    "f(2)"
   ]
  },
  {
   "cell_type": "markdown",
   "metadata": {
    "slideshow": {
     "slide_type": "slide"
    }
   },
   "source": [
    "## Exercises"
   ]
  },
  {
   "cell_type": "markdown",
   "metadata": {},
   "source": [
    "### Question 1 \n",
    "\n",
    "Let's have some fun with strings! Yay! define a string `string= \"Hello World\"`. Now just multiply it by 3, so `string*3`. What happens?"
   ]
  },
  {
   "cell_type": "code",
   "execution_count": null,
   "metadata": {},
   "outputs": [],
   "source": []
  },
  {
   "cell_type": "markdown",
   "metadata": {},
   "source": [
    "### Question 2\n",
    "\n",
    "Now what happens when, instead of a running this loop:\n",
    "\n",
    "```\n",
    "looper = [1,2,3,4,6,8]\n",
    "\n",
    "for thing in looper:\n",
    "    print(thing)\n",
    "```\n",
    "\n",
    "You put substitute, `looper` for `string`? What happens?\n"
   ]
  },
  {
   "cell_type": "code",
   "execution_count": null,
   "metadata": {},
   "outputs": [],
   "source": []
  },
  {
   "cell_type": "markdown",
   "metadata": {
    "slideshow": {
     "slide_type": "slide"
    }
   },
   "source": [
    "### Question 3\n",
    "\n",
    "Write a function that squares a number: $f(x) = x^2$. Evaluate this function at $x=4$."
   ]
  },
  {
   "cell_type": "code",
   "execution_count": null,
   "metadata": {},
   "outputs": [],
   "source": []
  },
  {
   "cell_type": "markdown",
   "metadata": {
    "slideshow": {
     "slide_type": "slide"
    }
   },
   "source": [
    "### Question 4\n",
    "\n",
    "Now that you have a function, let's see what we can do with it! Does this function work with a list of numbers? Let's find out!\n",
    "\n",
    "Define a list `a=[1,2,3]` and evaluate the function at `a`. What happens?"
   ]
  },
  {
   "cell_type": "code",
   "execution_count": null,
   "metadata": {},
   "outputs": [],
   "source": []
  },
  {
   "cell_type": "markdown",
   "metadata": {},
   "source": [
    "So it seems it doesn't really work right? Python shoots out an error. That's because Python doesn't really have a \"squaring\" operation for lists, It was expecting an `int` or `float` instead. Since doing complication operations are important for us when working with data, we need a way around this. One way to solve this problem is to explicitly put a loop in the function.\n",
    "\n",
    "So let's do that. This is a bit complicated, but listen up: what you're going to do is take the function you wrote for Question 3, but assume that `x` (the input) isn't meant to be some number, but rather that `x` is a list. And what can we do with lists, use them in our loop as the thing we iterate over. So if we assume that `x` is a list and not just some number, can you rewrite the function from Question 3 to take in a list as an input and then output that list squared? Let's use `a=[1,2,3]` as our candidate list.\n",
    "\n",
    "**Hint:** There are two main ways that I can think of to do this with the tools I've given you. One is where you make an empty list and fill it up with the squared values, and the other is by using slice notation."
   ]
  },
  {
   "cell_type": "code",
   "execution_count": 8,
   "metadata": {
    "ExecuteTime": {
     "end_time": "2019-08-04T23:01:30.845445Z",
     "start_time": "2019-08-04T23:01:30.835191Z"
    }
   },
   "outputs": [
    {
     "data": {
      "text/plain": [
       "[2, 2, 3]"
      ]
     },
     "execution_count": 8,
     "metadata": {},
     "output_type": "execute_result"
    }
   ],
   "source": []
  },
  {
   "cell_type": "markdown",
   "metadata": {},
   "source": [
    "### Question 5: List Comprehensions\n",
    "\n",
    "Another way we can do this is by using list comprehensions (not lists, but list comprehensions). List comprehensions are basically ways of making lists, but using the logic behind set notation. You can learn more about them [here](https://www.pythonforbeginners.com/basics/list-comprehensions-in-python), but look: let's say we wanted to write out the list you made in Question 4 as a set in math, what would it look like? Well basically something like (assuming that the resulting list was some variable called `b`:\n",
    "\n",
    "$$\n",
    "b = \\{x^2 \\text{ s.t. }  x\\in \\{1,2,3\\}\\}\n",
    "$$\n",
    "\n",
    "So what would this look like as a list comprehension? Look at the website linked above and try to figure it out."
   ]
  },
  {
   "cell_type": "markdown",
   "metadata": {},
   "source": [
    "### Question 6: Imports and Numpy\n",
    "\n",
    "Finally, a great way to deal with this problem is through using a library that is made to work with complicated operations on so-called \"containers\", or lists, or vectors.\n",
    "\n",
    "And that is the `numpy` library! You will come to know this library well. But before we do this, we need to understand what an `import` statement is.\n",
    "\n",
    "Python has a lot of nice features in it that you can use out of the box and that's called \"using the Python standard library.\" But sometimes Python doesn't have everything you need and that's on purpose: the point of the standard library is to give the tools needed to build and create new uses for Python. Since there are sometimes very specialized functions for things, if Python had to include web development AND linear regression into the standard library, as well as other things, Python would become super big.\n",
    "\n",
    "Luckily, however, it is easy to install new \"packages\" and \"libraries\" for Python. Your Anaconda distribution already has a lot of libraries that we'll need for the course, so you don't really need to install them, just `import` them. \n",
    "\n",
    "All an import is is that you have to put the command in a script you're writing to tell Python that you want to use that library as well as the standard library. So simply adding `import numpy` in your script will tell Python that you want to use `numpy`. \n",
    "\n",
    "Sometimes you don't want to use the whole library, but just one function. In that case what you can do is:\n",
    "\n",
    "`from <<library>> import <<function>>`\n",
    "\n",
    "Sometimes if the name of the library is really big and writing it out in the script is cumbersome, you can tell Python that you want a different name for that package.\n",
    "\n",
    "`import numpy as np`\n",
    "\n",
    "So now you'll only need to type in `np` when you want to call a numpy function."
   ]
  },
  {
   "cell_type": "markdown",
   "metadata": {},
   "source": [
    "Now that we know what imports are, let's see how numpy can help us. Numpy has a \"method\" called `array` that can make things easier for us. A method in this case just refers to a function in a library. To call that function, we first invoke that we want to use numpy, and then call its function. That amounts to:\n",
    "\n",
    "```\n",
    "import numpy as np\n",
    "# Recall that a=[1,2,3]\n",
    "a_np = np.array(a)\n",
    "```\n",
    "\n",
    "Great! Now it's an \"instance\" of a numpy array. That just means that you've said this to Python:\n",
    "\n",
    "**You:** Hey Python, here's this list, can you use `numpy` and transform it into one of its arrays?\n",
    "\n",
    "**Python:** Okay cool, I'll remember that and create this new thing called `a_np` that's been transformed from the list `a`, but it's a lot cooler now, its a numpy array!\n",
    "\n",
    "Once you've created an instance of the array, it's become an instance that comes with its own methods (more in the next question).\n",
    "\n",
    "Now that we have `a_np`, our problem is solved. I know that I misled you before and made you square a list, only to have Python spit out an error, but what happens when you square the numpy array `a_np`?"
   ]
  },
  {
   "cell_type": "code",
   "execution_count": null,
   "metadata": {},
   "outputs": [],
   "source": []
  },
  {
   "cell_type": "markdown",
   "metadata": {},
   "source": [
    "### Question 7: Means, variances, standard deviations, maxima, minima\n",
    "\n",
    "Numpy arrays also allow us to do some nice data stuff too. Let's take some list, `my_list = [3,4,7]`. Turn it into a numpy array (remember if you imported numpy in a different code cell and ran it, you don't have to do it in a new code cell, it's been imported). Same as how we used a dot or period to signify that we want to access a library's methods, once you have an array, they also have methods that you can use. Some of those methods are:\n",
    "\n",
    "- mean()\n",
    "- std()\n",
    "- var()\n",
    "- min()\n",
    "- max()\n",
    "\n",
    "For example, to find the variance of the array, you would write, `my_array.var()`.\n",
    "\n",
    "So here's the question:\n",
    "\n",
    "Create a numpy array from the list `my_list`. Then find the mean, standard deviation, minimum, and maximum of that array you've made.\n",
    "\n",
    "\n",
    "\n",
    "**Note:** Remember that since a method is a function, you have to put parantheses after its name, that's how Python knows it's a method/function. The difference is that functions oftentimes take an input, while methods might work without taking in any input, but you need to put the parantheses all the same (so, basically `method()`)\n",
    "\n"
   ]
  },
  {
   "cell_type": "code",
   "execution_count": null,
   "metadata": {},
   "outputs": [],
   "source": []
  },
  {
   "cell_type": "markdown",
   "metadata": {
    "slideshow": {
     "slide_type": "skip"
    }
   },
   "source": [
    "## Appendix"
   ]
  },
  {
   "cell_type": "markdown",
   "metadata": {
    "slideshow": {
     "slide_type": "skip"
    }
   },
   "source": [
    "Before we make our way to Python, there are a few things that we should become familiar with. Firstly, it is the terminal.\n",
    "\n",
    "The terminal or command line or command prompt is the scary black screen that the characters in the Matrix to destroy the Agents.\n",
    "\n",
    "![Mr.Anderson...](https://libertychurchonline.files.wordpress.com/2015/02/64cb4-matrix2bhas2bu.png)"
   ]
  },
  {
   "cell_type": "markdown",
   "metadata": {
    "slideshow": {
     "slide_type": "skip"
    }
   },
   "source": [
    "To open your command prompt:\n",
    "\n",
    "On Mac: Go to Finder -> Anaconda Prompt\n",
    "\n",
    "On Windows: Go Run -> Anaconda Prompt\n",
    "\n",
    "This terminal opens up and you have access to all the commands that Anaconda has installed into your computer.\n",
    "\n",
    "Although the world of the terminal is magical and can open up a world of possibilities to you, we will only need it to install new python packages (we'll get into that a little later)."
   ]
  },
  {
   "cell_type": "markdown",
   "metadata": {
    "slideshow": {
     "slide_type": "skip"
    }
   },
   "source": [
    "Anaconda has a commandline utility called ```conda``` that is in charge of installing packages. This is done by sending messages to the command line:\n",
    "\n",
    "```conda install``` is the command that we will use to install the packages we need.\n",
    "\n",
    "The python we will use is a barebones interpeter. Python was not initially designed to be for statistics, so we need to give it the knowledge and skills it needs first. That involves using ```conda``` to install relevant packages."
   ]
  },
  {
   "cell_type": "markdown",
   "metadata": {
    "slideshow": {
     "slide_type": "skip"
    }
   },
   "source": [
    "Please take a second to install the following packages:\n",
    "\n",
    "```conda install pandas```\n",
    "\n",
    "```conda install numpy```\n",
    "\n",
    "```conda install scipy```"
   ]
  }
 ],
 "metadata": {
  "celltoolbar": "Slideshow",
  "hide_input": false,
  "kernelspec": {
   "display_name": "Python 3",
   "language": "python",
   "name": "python3"
  },
  "language_info": {
   "codemirror_mode": {
    "name": "ipython",
    "version": 3
   },
   "file_extension": ".py",
   "mimetype": "text/x-python",
   "name": "python",
   "nbconvert_exporter": "python",
   "pygments_lexer": "ipython3",
   "version": "3.7.3"
  },
  "latex_envs": {
   "LaTeX_envs_menu_present": true,
   "autoclose": false,
   "autocomplete": true,
   "bibliofile": "biblio.bib",
   "cite_by": "apalike",
   "current_citInitial": 1,
   "eqLabelWithNumbers": true,
   "eqNumInitial": 1,
   "hotkeys": {
    "equation": "Ctrl-E",
    "itemize": "Ctrl-I"
   },
   "labels_anchors": false,
   "latex_user_defs": false,
   "report_style_numbering": false,
   "user_envs_cfg": false
  },
  "nbTranslate": {
   "displayLangs": [
    "*"
   ],
   "hotkey": "alt-t",
   "langInMainMenu": true,
   "sourceLang": "en",
   "targetLang": "fr",
   "useGoogleTranslate": true
  },
  "varInspector": {
   "cols": {
    "lenName": 16,
    "lenType": 16,
    "lenVar": 40
   },
   "kernels_config": {
    "python": {
     "delete_cmd_postfix": "",
     "delete_cmd_prefix": "del ",
     "library": "var_list.py",
     "varRefreshCmd": "print(var_dic_list())"
    },
    "r": {
     "delete_cmd_postfix": ") ",
     "delete_cmd_prefix": "rm(",
     "library": "var_list.r",
     "varRefreshCmd": "cat(var_dic_list()) "
    }
   },
   "types_to_exclude": [
    "module",
    "function",
    "builtin_function_or_method",
    "instance",
    "_Feature"
   ],
   "window_display": false
  }
 },
 "nbformat": 4,
 "nbformat_minor": 2
}
